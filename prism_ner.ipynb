{
  "nbformat": 4,
  "nbformat_minor": 0,
  "metadata": {
    "colab": {
      "name": "prism-ner.ipynb",
      "provenance": [],
      "collapsed_sections": [],
      "authorship_tag": "ABX9TyPUlQLHvXfZIWLtkUG9YpvR",
      "include_colab_link": true
    },
    "kernelspec": {
      "name": "python3",
      "display_name": "Python 3"
    }
  },
  "cells": [
    {
      "cell_type": "markdown",
      "metadata": {
        "id": "view-in-github",
        "colab_type": "text"
      },
      "source": [
        "<a href=\"https://colab.research.google.com/github/iishipatel/customNER-forHomeAutomation/blob/main/prism_ner.ipynb\" target=\"_parent\"><img src=\"https://colab.research.google.com/assets/colab-badge.svg\" alt=\"Open In Colab\"/></a>"
      ]
    },
    {
      "cell_type": "code",
      "metadata": {
        "colab": {
          "base_uri": "https://localhost:8080/"
        },
        "id": "Mo38j0iDyP10",
        "outputId": "0627ab13-ba20-4ca2-8810-60eec61e2fd3"
      },
      "source": [
        "!pip install -U spacy"
      ],
      "execution_count": null,
      "outputs": [
        {
          "output_type": "stream",
          "text": [
            "Collecting spacy\n",
            "\u001b[?25l  Downloading https://files.pythonhosted.org/packages/3a/70/a0b8bd0cb54d8739ba4d6fb3458785c3b9b812b7fbe93b0f10beb1a53ada/spacy-3.0.5-cp37-cp37m-manylinux2014_x86_64.whl (12.8MB)\n",
            "\u001b[K     |████████████████████████████████| 12.8MB 335kB/s \n",
            "\u001b[?25hCollecting catalogue<2.1.0,>=2.0.1\n",
            "  Downloading https://files.pythonhosted.org/packages/48/5c/493a2f3bb0eac17b1d48129ecfd251f0520b6c89493e9fd0522f534a9e4a/catalogue-2.0.1-py3-none-any.whl\n",
            "Collecting pathy>=0.3.5\n",
            "  Downloading https://files.pythonhosted.org/packages/a2/53/97dc0197cca9357369b3b71bf300896cf2d3604fa60ffaaf5cbc277de7de/pathy-0.4.0-py3-none-any.whl\n",
            "Requirement already satisfied, skipping upgrade: setuptools in /usr/local/lib/python3.7/dist-packages (from spacy) (54.0.0)\n",
            "Requirement already satisfied, skipping upgrade: preshed<3.1.0,>=3.0.2 in /usr/local/lib/python3.7/dist-packages (from spacy) (3.0.5)\n",
            "Requirement already satisfied, skipping upgrade: tqdm<5.0.0,>=4.38.0 in /usr/local/lib/python3.7/dist-packages (from spacy) (4.41.1)\n",
            "Requirement already satisfied, skipping upgrade: cymem<2.1.0,>=2.0.2 in /usr/local/lib/python3.7/dist-packages (from spacy) (2.0.5)\n",
            "Requirement already satisfied, skipping upgrade: murmurhash<1.1.0,>=0.28.0 in /usr/local/lib/python3.7/dist-packages (from spacy) (1.0.5)\n",
            "Requirement already satisfied, skipping upgrade: wasabi<1.1.0,>=0.8.1 in /usr/local/lib/python3.7/dist-packages (from spacy) (0.8.2)\n",
            "Collecting thinc<8.1.0,>=8.0.2\n",
            "\u001b[?25l  Downloading https://files.pythonhosted.org/packages/e3/08/20e707519bcded1a0caa6fd024b767ac79e4e5d0fb92266bb7dcf735e338/thinc-8.0.2-cp37-cp37m-manylinux2014_x86_64.whl (1.1MB)\n",
            "\u001b[K     |████████████████████████████████| 1.1MB 41.2MB/s \n",
            "\u001b[?25hRequirement already satisfied, skipping upgrade: blis<0.8.0,>=0.4.0 in /usr/local/lib/python3.7/dist-packages (from spacy) (0.4.1)\n",
            "Collecting srsly<3.0.0,>=2.4.0\n",
            "\u001b[?25l  Downloading https://files.pythonhosted.org/packages/19/54/76982427ceb495dd19ff982c966708c624b85e03c45bf1912feaf60c7b2d/srsly-2.4.0-cp37-cp37m-manylinux2014_x86_64.whl (456kB)\n",
            "\u001b[K     |████████████████████████████████| 460kB 41.5MB/s \n",
            "\u001b[?25hRequirement already satisfied, skipping upgrade: typing-extensions<4.0.0.0,>=3.7.4; python_version < \"3.8\" in /usr/local/lib/python3.7/dist-packages (from spacy) (3.7.4.3)\n",
            "Requirement already satisfied, skipping upgrade: jinja2 in /usr/local/lib/python3.7/dist-packages (from spacy) (2.11.3)\n",
            "Collecting spacy-legacy<3.1.0,>=3.0.0\n",
            "  Downloading https://files.pythonhosted.org/packages/65/d5/6c58fc97f3098775e46d8202bf248752e626a8096a0ae9d76aa7c485a09c/spacy_legacy-3.0.1-py2.py3-none-any.whl\n",
            "Collecting typer<0.4.0,>=0.3.0\n",
            "  Downloading https://files.pythonhosted.org/packages/90/34/d138832f6945432c638f32137e6c79a3b682f06a63c488dcfaca6b166c64/typer-0.3.2-py3-none-any.whl\n",
            "Requirement already satisfied, skipping upgrade: packaging>=20.0 in /usr/local/lib/python3.7/dist-packages (from spacy) (20.9)\n",
            "Requirement already satisfied, skipping upgrade: numpy>=1.15.0 in /usr/local/lib/python3.7/dist-packages (from spacy) (1.19.5)\n",
            "Requirement already satisfied, skipping upgrade: importlib-metadata>=0.20; python_version < \"3.8\" in /usr/local/lib/python3.7/dist-packages (from spacy) (3.7.2)\n",
            "Collecting pydantic<1.8.0,>=1.7.1\n",
            "\u001b[?25l  Downloading https://files.pythonhosted.org/packages/b3/0a/52ae1c659fc08f13dd7c0ae07b88e4f807ad83fb9954a59b0b0a3d1a8ab6/pydantic-1.7.3-cp37-cp37m-manylinux2014_x86_64.whl (9.1MB)\n",
            "\u001b[K     |████████████████████████████████| 9.1MB 27.6MB/s \n",
            "\u001b[?25hRequirement already satisfied, skipping upgrade: requests<3.0.0,>=2.13.0 in /usr/local/lib/python3.7/dist-packages (from spacy) (2.23.0)\n",
            "Collecting smart-open<4.0.0,>=2.2.0\n",
            "\u001b[?25l  Downloading https://files.pythonhosted.org/packages/11/9a/ba2d5f67f25e8d5bbf2fcec7a99b1e38428e83cb715f64dd179ca43a11bb/smart_open-3.0.0.tar.gz (113kB)\n",
            "\u001b[K     |████████████████████████████████| 122kB 50.2MB/s \n",
            "\u001b[?25hRequirement already satisfied, skipping upgrade: MarkupSafe>=0.23 in /usr/local/lib/python3.7/dist-packages (from jinja2->spacy) (1.1.1)\n",
            "Requirement already satisfied, skipping upgrade: click<7.2.0,>=7.1.1 in /usr/local/lib/python3.7/dist-packages (from typer<0.4.0,>=0.3.0->spacy) (7.1.2)\n",
            "Requirement already satisfied, skipping upgrade: pyparsing>=2.0.2 in /usr/local/lib/python3.7/dist-packages (from packaging>=20.0->spacy) (2.4.7)\n",
            "Requirement already satisfied, skipping upgrade: zipp>=0.5 in /usr/local/lib/python3.7/dist-packages (from importlib-metadata>=0.20; python_version < \"3.8\"->spacy) (3.4.1)\n",
            "Requirement already satisfied, skipping upgrade: chardet<4,>=3.0.2 in /usr/local/lib/python3.7/dist-packages (from requests<3.0.0,>=2.13.0->spacy) (3.0.4)\n",
            "Requirement already satisfied, skipping upgrade: idna<3,>=2.5 in /usr/local/lib/python3.7/dist-packages (from requests<3.0.0,>=2.13.0->spacy) (2.10)\n",
            "Requirement already satisfied, skipping upgrade: certifi>=2017.4.17 in /usr/local/lib/python3.7/dist-packages (from requests<3.0.0,>=2.13.0->spacy) (2020.12.5)\n",
            "Requirement already satisfied, skipping upgrade: urllib3!=1.25.0,!=1.25.1,<1.26,>=1.21.1 in /usr/local/lib/python3.7/dist-packages (from requests<3.0.0,>=2.13.0->spacy) (1.24.3)\n",
            "Building wheels for collected packages: smart-open\n",
            "  Building wheel for smart-open (setup.py) ... \u001b[?25l\u001b[?25hdone\n",
            "  Created wheel for smart-open: filename=smart_open-3.0.0-cp37-none-any.whl size=107098 sha256=f2e42e1c8800a320cb0d187ef7ed23e6e22c46089ec70388a5326f07aa129288\n",
            "  Stored in directory: /root/.cache/pip/wheels/18/88/7c/f06dabd5e9cabe02d2269167bcacbbf9b47d0c0ff7d6ebcb78\n",
            "Successfully built smart-open\n",
            "Installing collected packages: catalogue, typer, smart-open, pathy, pydantic, srsly, thinc, spacy-legacy, spacy\n",
            "  Found existing installation: catalogue 1.0.0\n",
            "    Uninstalling catalogue-1.0.0:\n",
            "      Successfully uninstalled catalogue-1.0.0\n",
            "  Found existing installation: smart-open 4.2.0\n",
            "    Uninstalling smart-open-4.2.0:\n",
            "      Successfully uninstalled smart-open-4.2.0\n",
            "  Found existing installation: srsly 1.0.5\n",
            "    Uninstalling srsly-1.0.5:\n",
            "      Successfully uninstalled srsly-1.0.5\n",
            "  Found existing installation: thinc 7.4.0\n",
            "    Uninstalling thinc-7.4.0:\n",
            "      Successfully uninstalled thinc-7.4.0\n",
            "  Found existing installation: spacy 2.2.4\n",
            "    Uninstalling spacy-2.2.4:\n",
            "      Successfully uninstalled spacy-2.2.4\n",
            "Successfully installed catalogue-2.0.1 pathy-0.4.0 pydantic-1.7.3 smart-open-3.0.0 spacy-3.0.5 spacy-legacy-3.0.1 srsly-2.4.0 thinc-8.0.2 typer-0.3.2\n"
          ],
          "name": "stdout"
        }
      ]
    },
    {
      "cell_type": "code",
      "metadata": {
        "colab": {
          "base_uri": "https://localhost:8080/"
        },
        "id": "tiWTM1vOyXTa",
        "outputId": "aa3e2f42-9636-49aa-8309-8b127cb8e756"
      },
      "source": [
        "!python -m spacy download en"
      ],
      "execution_count": null,
      "outputs": [
        {
          "output_type": "stream",
          "text": [
            "2021-03-17 06:05:54.422742: I tensorflow/stream_executor/platform/default/dso_loader.cc:49] Successfully opened dynamic library libcudart.so.11.0\n",
            "\u001b[38;5;3m⚠ As of spaCy v3.0, shortcuts like 'en' are deprecated. Please use the\n",
            "full pipeline package name 'en_core_web_sm' instead.\u001b[0m\n",
            "Collecting en-core-web-sm==3.0.0\n",
            "\u001b[?25l  Downloading https://github.com/explosion/spacy-models/releases/download/en_core_web_sm-3.0.0/en_core_web_sm-3.0.0-py3-none-any.whl (13.7MB)\n",
            "\u001b[K     |████████████████████████████████| 13.7MB 304kB/s \n",
            "\u001b[?25hRequirement already satisfied: spacy<3.1.0,>=3.0.0 in /usr/local/lib/python3.7/dist-packages (from en-core-web-sm==3.0.0) (3.0.5)\n",
            "Requirement already satisfied: pydantic<1.8.0,>=1.7.1 in /usr/local/lib/python3.7/dist-packages (from spacy<3.1.0,>=3.0.0->en-core-web-sm==3.0.0) (1.7.3)\n",
            "Requirement already satisfied: thinc<8.1.0,>=8.0.2 in /usr/local/lib/python3.7/dist-packages (from spacy<3.1.0,>=3.0.0->en-core-web-sm==3.0.0) (8.0.2)\n",
            "Requirement already satisfied: blis<0.8.0,>=0.4.0 in /usr/local/lib/python3.7/dist-packages (from spacy<3.1.0,>=3.0.0->en-core-web-sm==3.0.0) (0.4.1)\n",
            "Requirement already satisfied: wasabi<1.1.0,>=0.8.1 in /usr/local/lib/python3.7/dist-packages (from spacy<3.1.0,>=3.0.0->en-core-web-sm==3.0.0) (0.8.2)\n",
            "Requirement already satisfied: catalogue<2.1.0,>=2.0.1 in /usr/local/lib/python3.7/dist-packages (from spacy<3.1.0,>=3.0.0->en-core-web-sm==3.0.0) (2.0.1)\n",
            "Requirement already satisfied: importlib-metadata>=0.20; python_version < \"3.8\" in /usr/local/lib/python3.7/dist-packages (from spacy<3.1.0,>=3.0.0->en-core-web-sm==3.0.0) (3.7.2)\n",
            "Requirement already satisfied: requests<3.0.0,>=2.13.0 in /usr/local/lib/python3.7/dist-packages (from spacy<3.1.0,>=3.0.0->en-core-web-sm==3.0.0) (2.23.0)\n",
            "Requirement already satisfied: packaging>=20.0 in /usr/local/lib/python3.7/dist-packages (from spacy<3.1.0,>=3.0.0->en-core-web-sm==3.0.0) (20.9)\n",
            "Requirement already satisfied: murmurhash<1.1.0,>=0.28.0 in /usr/local/lib/python3.7/dist-packages (from spacy<3.1.0,>=3.0.0->en-core-web-sm==3.0.0) (1.0.5)\n",
            "Requirement already satisfied: setuptools in /usr/local/lib/python3.7/dist-packages (from spacy<3.1.0,>=3.0.0->en-core-web-sm==3.0.0) (54.0.0)\n",
            "Requirement already satisfied: tqdm<5.0.0,>=4.38.0 in /usr/local/lib/python3.7/dist-packages (from spacy<3.1.0,>=3.0.0->en-core-web-sm==3.0.0) (4.41.1)\n",
            "Requirement already satisfied: numpy>=1.15.0 in /usr/local/lib/python3.7/dist-packages (from spacy<3.1.0,>=3.0.0->en-core-web-sm==3.0.0) (1.19.5)\n",
            "Requirement already satisfied: typer<0.4.0,>=0.3.0 in /usr/local/lib/python3.7/dist-packages (from spacy<3.1.0,>=3.0.0->en-core-web-sm==3.0.0) (0.3.2)\n",
            "Requirement already satisfied: spacy-legacy<3.1.0,>=3.0.0 in /usr/local/lib/python3.7/dist-packages (from spacy<3.1.0,>=3.0.0->en-core-web-sm==3.0.0) (3.0.1)\n",
            "Requirement already satisfied: cymem<2.1.0,>=2.0.2 in /usr/local/lib/python3.7/dist-packages (from spacy<3.1.0,>=3.0.0->en-core-web-sm==3.0.0) (2.0.5)\n",
            "Requirement already satisfied: pathy>=0.3.5 in /usr/local/lib/python3.7/dist-packages (from spacy<3.1.0,>=3.0.0->en-core-web-sm==3.0.0) (0.4.0)\n",
            "Requirement already satisfied: typing-extensions<4.0.0.0,>=3.7.4; python_version < \"3.8\" in /usr/local/lib/python3.7/dist-packages (from spacy<3.1.0,>=3.0.0->en-core-web-sm==3.0.0) (3.7.4.3)\n",
            "Requirement already satisfied: jinja2 in /usr/local/lib/python3.7/dist-packages (from spacy<3.1.0,>=3.0.0->en-core-web-sm==3.0.0) (2.11.3)\n",
            "Requirement already satisfied: preshed<3.1.0,>=3.0.2 in /usr/local/lib/python3.7/dist-packages (from spacy<3.1.0,>=3.0.0->en-core-web-sm==3.0.0) (3.0.5)\n",
            "Requirement already satisfied: srsly<3.0.0,>=2.4.0 in /usr/local/lib/python3.7/dist-packages (from spacy<3.1.0,>=3.0.0->en-core-web-sm==3.0.0) (2.4.0)\n",
            "Requirement already satisfied: zipp>=0.5 in /usr/local/lib/python3.7/dist-packages (from importlib-metadata>=0.20; python_version < \"3.8\"->spacy<3.1.0,>=3.0.0->en-core-web-sm==3.0.0) (3.4.1)\n",
            "Requirement already satisfied: idna<3,>=2.5 in /usr/local/lib/python3.7/dist-packages (from requests<3.0.0,>=2.13.0->spacy<3.1.0,>=3.0.0->en-core-web-sm==3.0.0) (2.10)\n",
            "Requirement already satisfied: chardet<4,>=3.0.2 in /usr/local/lib/python3.7/dist-packages (from requests<3.0.0,>=2.13.0->spacy<3.1.0,>=3.0.0->en-core-web-sm==3.0.0) (3.0.4)\n",
            "Requirement already satisfied: certifi>=2017.4.17 in /usr/local/lib/python3.7/dist-packages (from requests<3.0.0,>=2.13.0->spacy<3.1.0,>=3.0.0->en-core-web-sm==3.0.0) (2020.12.5)\n",
            "Requirement already satisfied: urllib3!=1.25.0,!=1.25.1,<1.26,>=1.21.1 in /usr/local/lib/python3.7/dist-packages (from requests<3.0.0,>=2.13.0->spacy<3.1.0,>=3.0.0->en-core-web-sm==3.0.0) (1.24.3)\n",
            "Requirement already satisfied: pyparsing>=2.0.2 in /usr/local/lib/python3.7/dist-packages (from packaging>=20.0->spacy<3.1.0,>=3.0.0->en-core-web-sm==3.0.0) (2.4.7)\n",
            "Requirement already satisfied: click<7.2.0,>=7.1.1 in /usr/local/lib/python3.7/dist-packages (from typer<0.4.0,>=0.3.0->spacy<3.1.0,>=3.0.0->en-core-web-sm==3.0.0) (7.1.2)\n",
            "Requirement already satisfied: smart-open<4.0.0,>=2.2.0 in /usr/local/lib/python3.7/dist-packages (from pathy>=0.3.5->spacy<3.1.0,>=3.0.0->en-core-web-sm==3.0.0) (3.0.0)\n",
            "Requirement already satisfied: MarkupSafe>=0.23 in /usr/local/lib/python3.7/dist-packages (from jinja2->spacy<3.1.0,>=3.0.0->en-core-web-sm==3.0.0) (1.1.1)\n",
            "Installing collected packages: en-core-web-sm\n",
            "  Found existing installation: en-core-web-sm 2.2.5\n",
            "    Uninstalling en-core-web-sm-2.2.5:\n",
            "      Successfully uninstalled en-core-web-sm-2.2.5\n",
            "Successfully installed en-core-web-sm-3.0.0\n",
            "\u001b[38;5;2m✔ Download and installation successful\u001b[0m\n",
            "You can now load the package via spacy.load('en_core_web_sm')\n"
          ],
          "name": "stdout"
        }
      ]
    },
    {
      "cell_type": "code",
      "metadata": {
        "id": "ofEtCs2fylVF"
      },
      "source": [
        "import json\n",
        "import logging\n",
        "import sys"
      ],
      "execution_count": 1,
      "outputs": []
    },
    {
      "cell_type": "code",
      "metadata": {
        "colab": {
          "base_uri": "https://localhost:8080/"
        },
        "id": "0ov6eBpOmRce",
        "outputId": "b21a23bf-4bfa-44b4-fd20-7e1a109b7191"
      },
      "source": [
        "from google.colab import drive\n",
        "drive.mount('/content/gdrive', force_remount=True)"
      ],
      "execution_count": 2,
      "outputs": [
        {
          "output_type": "stream",
          "text": [
            "Mounted at /content/gdrive\n"
          ],
          "name": "stdout"
        }
      ]
    },
    {
      "cell_type": "code",
      "metadata": {
        "id": "LrznB54ymwG3"
      },
      "source": [
        "path=\"/content/gdrive/MyDrive/Samsung-Prism/ner-dataset.csv\""
      ],
      "execution_count": null,
      "outputs": []
    },
    {
      "cell_type": "code",
      "metadata": {
        "id": "b9L5y0uZnBSo"
      },
      "source": [
        "def tsv_to_json_format(input_path,output_path,unknown_label):\n",
        "    try:\n",
        "        f=open(input_path,'r') # input file\n",
        "        fp=open(output_path, 'w') # output file\n",
        "        data_dict={}\n",
        "        annotations =[]\n",
        "        label_dict={}\n",
        "        s=''\n",
        "        start=0\n",
        "        for line in f:\n",
        "            if line[0:len(line)-1]!='.\t0':\n",
        "                word,entity=line.split('\\t')\n",
        "                s+=word+\" \"\n",
        "                entity=entity[:len(entity)-1]\n",
        "                if entity!=unknown_label:\n",
        "                    if len(entity) != 1:\n",
        "                        d={}\n",
        "                        d['text']=word\n",
        "                        d['start']=start\n",
        "                        d['end']=start+len(word)-1  \n",
        "                        try:\n",
        "                            label_dict[entity].append(d)\n",
        "                        except:\n",
        "                            label_dict[entity]=[]\n",
        "                            label_dict[entity].append(d) \n",
        "                start+=len(word)+1\n",
        "            else:\n",
        "                data_dict['content']=s\n",
        "                s=''\n",
        "                label_list=[]\n",
        "                for ents in list(label_dict.keys()):\n",
        "                    for i in range(len(label_dict[ents])):\n",
        "                        if(label_dict[ents][i]['text']!=''):\n",
        "                            l=[ents,label_dict[ents][i]]\n",
        "                            for j in range(i+1,len(label_dict[ents])): \n",
        "                                if(label_dict[ents][i]['text']==label_dict[ents][j]['text']):  \n",
        "                                    di={}\n",
        "                                    di['start']=label_dict[ents][j]['start']\n",
        "                                    di['end']=label_dict[ents][j]['end']\n",
        "                                    di['text']=label_dict[ents][i]['text']\n",
        "                                    l.append(di)\n",
        "                                    label_dict[ents][j]['text']=''\n",
        "                            label_list.append(l)                         \n",
        "                            \n",
        "                for entities in label_list:\n",
        "                    label={}\n",
        "                    label['label']=[entities[0]]\n",
        "                    label['points']=entities[1:]\n",
        "                    annotations.append(label)\n",
        "                data_dict['annotation']=annotations\n",
        "                annotations=[]\n",
        "                json.dump(data_dict, fp)\n",
        "                fp.write('\\n')\n",
        "                data_dict={}\n",
        "                start=0\n",
        "                label_dict={}\n",
        "    except Exception as e:\n",
        "        logging.exception(\"Unable to process file\" + \"\\n\" + \"error = \" + str(e))\n",
        "        return None"
      ],
      "execution_count": null,
      "outputs": []
    },
    {
      "cell_type": "code",
      "metadata": {
        "colab": {
          "base_uri": "https://localhost:8080/"
        },
        "id": "mupGEHeOnOvG",
        "outputId": "d48eaeaf-7c4e-4b7a-e6f1-17d23aa33a55"
      },
      "source": [
        "tsv_to_json_format(\"/content/gdrive/MyDrive/Samsung-Prism/ner-dataset.tsv\",'/content/gdrive/MyDrive/Samsung-Prism/ner_dataset.json','abc')"
      ],
      "execution_count": null,
      "outputs": [
        {
          "output_type": "stream",
          "text": [
            "turn\tB-action\n",
            "on\tB-state\n",
            "AC\tB-device\n",
            "in\t0\n",
            "the\t0\n",
            "bedroom\tB-room\n",
            ".\t0\n",
            "[['B-action', {'text': 'turn', 'start': 0, 'end': 3}]]\n",
            "[['B-action', {'text': 'turn', 'start': 0, 'end': 3}], ['B-state', {'text': 'on', 'start': 5, 'end': 6}]]\n",
            "[['B-action', {'text': 'turn', 'start': 0, 'end': 3}], ['B-state', {'text': 'on', 'start': 5, 'end': 6}], ['B-device', {'text': 'AC', 'start': 8, 'end': 9}]]\n",
            "[['B-action', {'text': 'turn', 'start': 0, 'end': 3}], ['B-state', {'text': 'on', 'start': 5, 'end': 6}], ['B-device', {'text': 'AC', 'start': 8, 'end': 9}], ['B-room', {'text': 'bedroom', 'start': 18, 'end': 24}]]\n",
            "turn\tB-action\n",
            "off\tB-state\n",
            "UPS\tB-device\n",
            "in\t0\n",
            "the\t0\n",
            "livingroom\tB-room\n",
            ".\t0\n",
            "[['B-action', {'text': 'turn', 'start': 0, 'end': 3}]]\n",
            "[['B-action', {'text': 'turn', 'start': 0, 'end': 3}], ['B-state', {'text': 'off', 'start': 5, 'end': 7}]]\n",
            "[['B-action', {'text': 'turn', 'start': 0, 'end': 3}], ['B-state', {'text': 'off', 'start': 5, 'end': 7}], ['B-device', {'text': 'UPS', 'start': 9, 'end': 11}]]\n",
            "[['B-action', {'text': 'turn', 'start': 0, 'end': 3}], ['B-state', {'text': 'off', 'start': 5, 'end': 7}], ['B-device', {'text': 'UPS', 'start': 9, 'end': 11}], ['B-room', {'text': 'livingroom', 'start': 20, 'end': 29}]]\n",
            "turn\tB-action\n",
            "on\tB-state\n",
            "Light\tB-device\n",
            "in\t0\n",
            "the\t0\n",
            "storeroom\tB-room\n",
            ".\t0\n",
            "[['B-action', {'text': 'turn', 'start': 0, 'end': 3}]]\n",
            "[['B-action', {'text': 'turn', 'start': 0, 'end': 3}], ['B-state', {'text': 'on', 'start': 5, 'end': 6}]]\n",
            "[['B-action', {'text': 'turn', 'start': 0, 'end': 3}], ['B-state', {'text': 'on', 'start': 5, 'end': 6}], ['B-device', {'text': 'Light', 'start': 8, 'end': 12}]]\n",
            "[['B-action', {'text': 'turn', 'start': 0, 'end': 3}], ['B-state', {'text': 'on', 'start': 5, 'end': 6}], ['B-device', {'text': 'Light', 'start': 8, 'end': 12}], ['B-room', {'text': 'storeroom', 'start': 21, 'end': 29}]]\n",
            "turn\tB-action\n",
            "on\tB-state\n",
            "Fan\tB-device\n",
            "in\t0\n",
            "the\t0\n",
            "bedroom\tB-room\n",
            ".\t0\n",
            "[['B-action', {'text': 'turn', 'start': 0, 'end': 3}]]\n",
            "[['B-action', {'text': 'turn', 'start': 0, 'end': 3}], ['B-state', {'text': 'on', 'start': 5, 'end': 6}]]\n",
            "[['B-action', {'text': 'turn', 'start': 0, 'end': 3}], ['B-state', {'text': 'on', 'start': 5, 'end': 6}], ['B-device', {'text': 'Fan', 'start': 8, 'end': 10}]]\n",
            "[['B-action', {'text': 'turn', 'start': 0, 'end': 3}], ['B-state', {'text': 'on', 'start': 5, 'end': 6}], ['B-device', {'text': 'Fan', 'start': 8, 'end': 10}], ['B-room', {'text': 'bedroom', 'start': 19, 'end': 25}]]\n",
            "turn\tB-action\n",
            "off\tB-state\n",
            "Refrigerator\tB-device\n",
            "in\t0\n",
            "the\t0\n",
            "kitchen\tB-room\n",
            ".\t0\n",
            "[['B-action', {'text': 'turn', 'start': 0, 'end': 3}]]\n",
            "[['B-action', {'text': 'turn', 'start': 0, 'end': 3}], ['B-state', {'text': 'off', 'start': 5, 'end': 7}]]\n",
            "[['B-action', {'text': 'turn', 'start': 0, 'end': 3}], ['B-state', {'text': 'off', 'start': 5, 'end': 7}], ['B-device', {'text': 'Refrigerator', 'start': 9, 'end': 20}]]\n",
            "[['B-action', {'text': 'turn', 'start': 0, 'end': 3}], ['B-state', {'text': 'off', 'start': 5, 'end': 7}], ['B-device', {'text': 'Refrigerator', 'start': 9, 'end': 20}], ['B-room', {'text': 'kitchen', 'start': 29, 'end': 35}]]\n",
            "turn\tB-action\n",
            "on\tB-state\n",
            "Fan\tB-device\n",
            "in\t0\n",
            "the\t0\n",
            "livingroom\tB-room\n",
            ".\t0\n",
            "[['B-action', {'text': 'turn', 'start': 0, 'end': 3}]]\n",
            "[['B-action', {'text': 'turn', 'start': 0, 'end': 3}], ['B-state', {'text': 'on', 'start': 5, 'end': 6}]]\n",
            "[['B-action', {'text': 'turn', 'start': 0, 'end': 3}], ['B-state', {'text': 'on', 'start': 5, 'end': 6}], ['B-device', {'text': 'Fan', 'start': 8, 'end': 10}]]\n",
            "[['B-action', {'text': 'turn', 'start': 0, 'end': 3}], ['B-state', {'text': 'on', 'start': 5, 'end': 6}], ['B-device', {'text': 'Fan', 'start': 8, 'end': 10}], ['B-room', {'text': 'livingroom', 'start': 19, 'end': 28}]]\n",
            "turn\tB-action\n",
            "off\tB-state\n",
            "Fan\tB-device\n",
            "in\t0\n",
            "the\t0\n",
            "bedroom\tB-room\n",
            ".\t0\n",
            "[['B-action', {'text': 'turn', 'start': 0, 'end': 3}]]\n",
            "[['B-action', {'text': 'turn', 'start': 0, 'end': 3}], ['B-state', {'text': 'off', 'start': 5, 'end': 7}]]\n",
            "[['B-action', {'text': 'turn', 'start': 0, 'end': 3}], ['B-state', {'text': 'off', 'start': 5, 'end': 7}], ['B-device', {'text': 'Fan', 'start': 9, 'end': 11}]]\n",
            "[['B-action', {'text': 'turn', 'start': 0, 'end': 3}], ['B-state', {'text': 'off', 'start': 5, 'end': 7}], ['B-device', {'text': 'Fan', 'start': 9, 'end': 11}], ['B-room', {'text': 'bedroom', 'start': 20, 'end': 26}]]\n",
            "turn\tB-action\n",
            "on\tB-state\n",
            "Light\tB-device\n",
            "in\t0\n",
            "the\t0\n",
            "kitchen\tB-room\n",
            ".\t0\n",
            "[['B-action', {'text': 'turn', 'start': 0, 'end': 3}]]\n",
            "[['B-action', {'text': 'turn', 'start': 0, 'end': 3}], ['B-state', {'text': 'on', 'start': 5, 'end': 6}]]\n",
            "[['B-action', {'text': 'turn', 'start': 0, 'end': 3}], ['B-state', {'text': 'on', 'start': 5, 'end': 6}], ['B-device', {'text': 'Light', 'start': 8, 'end': 12}]]\n",
            "[['B-action', {'text': 'turn', 'start': 0, 'end': 3}], ['B-state', {'text': 'on', 'start': 5, 'end': 6}], ['B-device', {'text': 'Light', 'start': 8, 'end': 12}], ['B-room', {'text': 'kitchen', 'start': 21, 'end': 27}]]\n",
            "turn\tB-action\n",
            "off\tB-state\n",
            "Speaker\tB-device\n",
            "in\t0\n",
            "the\t0\n",
            "bedroom\tB-room\n",
            ".\t0\n",
            "[['B-action', {'text': 'turn', 'start': 0, 'end': 3}]]\n",
            "[['B-action', {'text': 'turn', 'start': 0, 'end': 3}], ['B-state', {'text': 'off', 'start': 5, 'end': 7}]]\n",
            "[['B-action', {'text': 'turn', 'start': 0, 'end': 3}], ['B-state', {'text': 'off', 'start': 5, 'end': 7}], ['B-device', {'text': 'Speaker', 'start': 9, 'end': 15}]]\n",
            "[['B-action', {'text': 'turn', 'start': 0, 'end': 3}], ['B-state', {'text': 'off', 'start': 5, 'end': 7}], ['B-device', {'text': 'Speaker', 'start': 9, 'end': 15}], ['B-room', {'text': 'bedroom', 'start': 24, 'end': 30}]]\n",
            "turn\tB-action\n",
            "on\tB-state\n",
            "Microwave\tB-device\n",
            "in\t0\n",
            "the\t0\n",
            "kitchen\tB-room\n",
            ".\t0\n",
            "[['B-action', {'text': 'turn', 'start': 0, 'end': 3}]]\n",
            "[['B-action', {'text': 'turn', 'start': 0, 'end': 3}], ['B-state', {'text': 'on', 'start': 5, 'end': 6}]]\n",
            "[['B-action', {'text': 'turn', 'start': 0, 'end': 3}], ['B-state', {'text': 'on', 'start': 5, 'end': 6}], ['B-device', {'text': 'Microwave', 'start': 8, 'end': 16}]]\n",
            "[['B-action', {'text': 'turn', 'start': 0, 'end': 3}], ['B-state', {'text': 'on', 'start': 5, 'end': 6}], ['B-device', {'text': 'Microwave', 'start': 8, 'end': 16}], ['B-room', {'text': 'kitchen', 'start': 25, 'end': 31}]]\n",
            "turn\tB-action\n",
            "on\tB-state\n",
            "Computer\tB-device\n",
            "in\t0\n",
            "the\t0\n",
            "studyroom\tB-room\n",
            ".\t0\n",
            "[['B-action', {'text': 'turn', 'start': 0, 'end': 3}]]\n",
            "[['B-action', {'text': 'turn', 'start': 0, 'end': 3}], ['B-state', {'text': 'on', 'start': 5, 'end': 6}]]\n",
            "[['B-action', {'text': 'turn', 'start': 0, 'end': 3}], ['B-state', {'text': 'on', 'start': 5, 'end': 6}], ['B-device', {'text': 'Computer', 'start': 8, 'end': 15}]]\n",
            "[['B-action', {'text': 'turn', 'start': 0, 'end': 3}], ['B-state', {'text': 'on', 'start': 5, 'end': 6}], ['B-device', {'text': 'Computer', 'start': 8, 'end': 15}], ['B-room', {'text': 'studyroom', 'start': 24, 'end': 32}]]\n",
            "turn\tB-action\n",
            "on\tB-state\n",
            "Nightlamp\tB-device\n",
            "in\t0\n",
            "the\t0\n",
            "bedroom\tB-room\n",
            ".\t0\n",
            "[['B-action', {'text': 'turn', 'start': 0, 'end': 3}]]\n",
            "[['B-action', {'text': 'turn', 'start': 0, 'end': 3}], ['B-state', {'text': 'on', 'start': 5, 'end': 6}]]\n",
            "[['B-action', {'text': 'turn', 'start': 0, 'end': 3}], ['B-state', {'text': 'on', 'start': 5, 'end': 6}], ['B-device', {'text': 'Nightlamp', 'start': 8, 'end': 16}]]\n",
            "[['B-action', {'text': 'turn', 'start': 0, 'end': 3}], ['B-state', {'text': 'on', 'start': 5, 'end': 6}], ['B-device', {'text': 'Nightlamp', 'start': 8, 'end': 16}], ['B-room', {'text': 'bedroom', 'start': 25, 'end': 31}]]\n",
            "turn\tB-action\n",
            "on\tB-state\n",
            "Television\tB-device\n",
            "in\t0\n",
            "the\t0\n",
            "livingroom\tB-room\n",
            ".\t0\n",
            "[['B-action', {'text': 'turn', 'start': 0, 'end': 3}]]\n",
            "[['B-action', {'text': 'turn', 'start': 0, 'end': 3}], ['B-state', {'text': 'on', 'start': 5, 'end': 6}]]\n",
            "[['B-action', {'text': 'turn', 'start': 0, 'end': 3}], ['B-state', {'text': 'on', 'start': 5, 'end': 6}], ['B-device', {'text': 'Television', 'start': 8, 'end': 17}]]\n",
            "[['B-action', {'text': 'turn', 'start': 0, 'end': 3}], ['B-state', {'text': 'on', 'start': 5, 'end': 6}], ['B-device', {'text': 'Television', 'start': 8, 'end': 17}], ['B-room', {'text': 'livingroom', 'start': 26, 'end': 35}]]\n",
            "turn\tB-action\n",
            "off\tB-state\n",
            "Television\tB-device\n",
            "in\t0\n",
            "the\t0\n",
            "livingroom\tB-room\n",
            ".\t0\n",
            "[['B-action', {'text': 'turn', 'start': 0, 'end': 3}]]\n",
            "[['B-action', {'text': 'turn', 'start': 0, 'end': 3}], ['B-state', {'text': 'off', 'start': 5, 'end': 7}]]\n",
            "[['B-action', {'text': 'turn', 'start': 0, 'end': 3}], ['B-state', {'text': 'off', 'start': 5, 'end': 7}], ['B-device', {'text': 'Television', 'start': 9, 'end': 18}]]\n",
            "[['B-action', {'text': 'turn', 'start': 0, 'end': 3}], ['B-state', {'text': 'off', 'start': 5, 'end': 7}], ['B-device', {'text': 'Television', 'start': 9, 'end': 18}], ['B-room', {'text': 'livingroom', 'start': 27, 'end': 36}]]\n",
            "turn\tB-action\n",
            "off\tB-state\n",
            "Smartlight\tB-device\n",
            "in\t0\n",
            "the\t0\n",
            "restroom\tB-room\n",
            ".\t0\n",
            "[['B-action', {'text': 'turn', 'start': 0, 'end': 3}]]\n",
            "[['B-action', {'text': 'turn', 'start': 0, 'end': 3}], ['B-state', {'text': 'off', 'start': 5, 'end': 7}]]\n",
            "[['B-action', {'text': 'turn', 'start': 0, 'end': 3}], ['B-state', {'text': 'off', 'start': 5, 'end': 7}], ['B-device', {'text': 'Smartlight', 'start': 9, 'end': 18}]]\n",
            "[['B-action', {'text': 'turn', 'start': 0, 'end': 3}], ['B-state', {'text': 'off', 'start': 5, 'end': 7}], ['B-device', {'text': 'Smartlight', 'start': 9, 'end': 18}], ['B-room', {'text': 'restroom', 'start': 27, 'end': 34}]]\n",
            "turn\tB-action\n",
            "on\tB-state\n",
            "Lamp\tB-device\n",
            "in\t0\n",
            "the\t0\n",
            "studyroom\tB-room\n",
            ".\t0\n",
            "[['B-action', {'text': 'turn', 'start': 0, 'end': 3}]]\n",
            "[['B-action', {'text': 'turn', 'start': 0, 'end': 3}], ['B-state', {'text': 'on', 'start': 5, 'end': 6}]]\n",
            "[['B-action', {'text': 'turn', 'start': 0, 'end': 3}], ['B-state', {'text': 'on', 'start': 5, 'end': 6}], ['B-device', {'text': 'Lamp', 'start': 8, 'end': 11}]]\n",
            "[['B-action', {'text': 'turn', 'start': 0, 'end': 3}], ['B-state', {'text': 'on', 'start': 5, 'end': 6}], ['B-device', {'text': 'Lamp', 'start': 8, 'end': 11}], ['B-room', {'text': 'studyroom', 'start': 20, 'end': 28}]]\n",
            "turn\tB-action\n",
            "off\tB-state\n",
            "Grinder\tB-device\n",
            "in\t0\n",
            "the\t0\n",
            "kitchen\tB-room\n",
            ".\t0\n",
            "[['B-action', {'text': 'turn', 'start': 0, 'end': 3}]]\n",
            "[['B-action', {'text': 'turn', 'start': 0, 'end': 3}], ['B-state', {'text': 'off', 'start': 5, 'end': 7}]]\n",
            "[['B-action', {'text': 'turn', 'start': 0, 'end': 3}], ['B-state', {'text': 'off', 'start': 5, 'end': 7}], ['B-device', {'text': 'Grinder', 'start': 9, 'end': 15}]]\n",
            "[['B-action', {'text': 'turn', 'start': 0, 'end': 3}], ['B-state', {'text': 'off', 'start': 5, 'end': 7}], ['B-device', {'text': 'Grinder', 'start': 9, 'end': 15}], ['B-room', {'text': 'kitchen', 'start': 24, 'end': 30}]]\n",
            "turn\tB-action\n",
            "on\tB-state\n",
            "Mixer\tB-device\n",
            "in\t0\n",
            "the\t0\n",
            "kitchen\tB-room\n",
            ".\t0\n",
            "[['B-action', {'text': 'turn', 'start': 0, 'end': 3}]]\n",
            "[['B-action', {'text': 'turn', 'start': 0, 'end': 3}], ['B-state', {'text': 'on', 'start': 5, 'end': 6}]]\n",
            "[['B-action', {'text': 'turn', 'start': 0, 'end': 3}], ['B-state', {'text': 'on', 'start': 5, 'end': 6}], ['B-device', {'text': 'Mixer', 'start': 8, 'end': 12}]]\n",
            "[['B-action', {'text': 'turn', 'start': 0, 'end': 3}], ['B-state', {'text': 'on', 'start': 5, 'end': 6}], ['B-device', {'text': 'Mixer', 'start': 8, 'end': 12}], ['B-room', {'text': 'kitchen', 'start': 21, 'end': 27}]]\n",
            "turn\tB-action\n",
            "off\tB-state\n",
            "AC\tB-device\n",
            "in\t0\n",
            "the\t0\n",
            "livingroom\tB-room\n",
            ".\t0\n",
            "[['B-action', {'text': 'turn', 'start': 0, 'end': 3}]]\n",
            "[['B-action', {'text': 'turn', 'start': 0, 'end': 3}], ['B-state', {'text': 'off', 'start': 5, 'end': 7}]]\n",
            "[['B-action', {'text': 'turn', 'start': 0, 'end': 3}], ['B-state', {'text': 'off', 'start': 5, 'end': 7}], ['B-device', {'text': 'AC', 'start': 9, 'end': 10}]]\n",
            "[['B-action', {'text': 'turn', 'start': 0, 'end': 3}], ['B-state', {'text': 'off', 'start': 5, 'end': 7}], ['B-device', {'text': 'AC', 'start': 9, 'end': 10}], ['B-room', {'text': 'livingroom', 'start': 19, 'end': 28}]]\n",
            "turn\tB-action\n",
            "on\tB-state\n",
            "Juicer\tB-device\n",
            "in\t0\n",
            "the\t0\n",
            "kitchen\tB-room\n",
            ".\t0\n",
            "[['B-action', {'text': 'turn', 'start': 0, 'end': 3}]]\n",
            "[['B-action', {'text': 'turn', 'start': 0, 'end': 3}], ['B-state', {'text': 'on', 'start': 5, 'end': 6}]]\n",
            "[['B-action', {'text': 'turn', 'start': 0, 'end': 3}], ['B-state', {'text': 'on', 'start': 5, 'end': 6}], ['B-device', {'text': 'Juicer', 'start': 8, 'end': 13}]]\n",
            "[['B-action', {'text': 'turn', 'start': 0, 'end': 3}], ['B-state', {'text': 'on', 'start': 5, 'end': 6}], ['B-device', {'text': 'Juicer', 'start': 8, 'end': 13}], ['B-room', {'text': 'kitchen', 'start': 22, 'end': 28}]]\n",
            "turn\tB-action\n",
            "off\tB-state\n",
            "Jiucer\tB-device\n",
            "in\t0\n",
            "the\t0\n",
            "kitchen\tB-room\n",
            ".\t0\n",
            "[['B-action', {'text': 'turn', 'start': 0, 'end': 3}]]\n",
            "[['B-action', {'text': 'turn', 'start': 0, 'end': 3}], ['B-state', {'text': 'off', 'start': 5, 'end': 7}]]\n",
            "[['B-action', {'text': 'turn', 'start': 0, 'end': 3}], ['B-state', {'text': 'off', 'start': 5, 'end': 7}], ['B-device', {'text': 'Jiucer', 'start': 9, 'end': 14}]]\n",
            "[['B-action', {'text': 'turn', 'start': 0, 'end': 3}], ['B-state', {'text': 'off', 'start': 5, 'end': 7}], ['B-device', {'text': 'Jiucer', 'start': 9, 'end': 14}], ['B-room', {'text': 'kitchen', 'start': 23, 'end': 29}]]\n",
            "turn\tB-action\n",
            "on\tB-state\n",
            "Waterpurifier\tB-device\n",
            "in\t0\n",
            "the\t0\n",
            "kitchen\tB-room\n",
            ".\t0\n",
            "[['B-action', {'text': 'turn', 'start': 0, 'end': 3}]]\n",
            "[['B-action', {'text': 'turn', 'start': 0, 'end': 3}], ['B-state', {'text': 'on', 'start': 5, 'end': 6}]]\n",
            "[['B-action', {'text': 'turn', 'start': 0, 'end': 3}], ['B-state', {'text': 'on', 'start': 5, 'end': 6}], ['B-device', {'text': 'Waterpurifier', 'start': 8, 'end': 20}]]\n",
            "[['B-action', {'text': 'turn', 'start': 0, 'end': 3}], ['B-state', {'text': 'on', 'start': 5, 'end': 6}], ['B-device', {'text': 'Waterpurifier', 'start': 8, 'end': 20}], ['B-room', {'text': 'kitchen', 'start': 29, 'end': 35}]]\n",
            "turn\tB-action\n",
            "off\tB-state\n",
            "AC\tB-device\n",
            "in\t0\n",
            "the\t0\n",
            "bedroom\tB-room\n",
            ".\t0\n",
            "[['B-action', {'text': 'turn', 'start': 0, 'end': 3}]]\n",
            "[['B-action', {'text': 'turn', 'start': 0, 'end': 3}], ['B-state', {'text': 'off', 'start': 5, 'end': 7}]]\n",
            "[['B-action', {'text': 'turn', 'start': 0, 'end': 3}], ['B-state', {'text': 'off', 'start': 5, 'end': 7}], ['B-device', {'text': 'AC', 'start': 9, 'end': 10}]]\n",
            "[['B-action', {'text': 'turn', 'start': 0, 'end': 3}], ['B-state', {'text': 'off', 'start': 5, 'end': 7}], ['B-device', {'text': 'AC', 'start': 9, 'end': 10}], ['B-room', {'text': 'bedroom', 'start': 19, 'end': 25}]]\n",
            "turn\tB-action\n",
            "on\tB-state\n",
            "UPS\tB-device\n",
            "in\t0\n",
            "the\t0\n",
            "livingroom\tB-room\n",
            ".\t0\n",
            "[['B-action', {'text': 'turn', 'start': 0, 'end': 3}]]\n",
            "[['B-action', {'text': 'turn', 'start': 0, 'end': 3}], ['B-state', {'text': 'on', 'start': 5, 'end': 6}]]\n",
            "[['B-action', {'text': 'turn', 'start': 0, 'end': 3}], ['B-state', {'text': 'on', 'start': 5, 'end': 6}], ['B-device', {'text': 'UPS', 'start': 8, 'end': 10}]]\n",
            "[['B-action', {'text': 'turn', 'start': 0, 'end': 3}], ['B-state', {'text': 'on', 'start': 5, 'end': 6}], ['B-device', {'text': 'UPS', 'start': 8, 'end': 10}], ['B-room', {'text': 'livingroom', 'start': 19, 'end': 28}]]\n",
            "turn\tB-action\n",
            "off\tB-state\n",
            "Fan\tB-device\n",
            "in\t0\n",
            "the\t0\n",
            "bedroom\tB-room\n",
            ".\t0\n",
            "[['B-action', {'text': 'turn', 'start': 0, 'end': 3}]]\n",
            "[['B-action', {'text': 'turn', 'start': 0, 'end': 3}], ['B-state', {'text': 'off', 'start': 5, 'end': 7}]]\n",
            "[['B-action', {'text': 'turn', 'start': 0, 'end': 3}], ['B-state', {'text': 'off', 'start': 5, 'end': 7}], ['B-device', {'text': 'Fan', 'start': 9, 'end': 11}]]\n",
            "[['B-action', {'text': 'turn', 'start': 0, 'end': 3}], ['B-state', {'text': 'off', 'start': 5, 'end': 7}], ['B-device', {'text': 'Fan', 'start': 9, 'end': 11}], ['B-room', {'text': 'bedroom', 'start': 20, 'end': 26}]]\n",
            "turn\tB-action\n",
            "on\tB-state\n",
            "Refrigerator\tB-device\n",
            "in\t0\n",
            "the\t0\n",
            "kitchen\tB-room\n",
            ".\t0\n",
            "[['B-action', {'text': 'turn', 'start': 0, 'end': 3}]]\n",
            "[['B-action', {'text': 'turn', 'start': 0, 'end': 3}], ['B-state', {'text': 'on', 'start': 5, 'end': 6}]]\n",
            "[['B-action', {'text': 'turn', 'start': 0, 'end': 3}], ['B-state', {'text': 'on', 'start': 5, 'end': 6}], ['B-device', {'text': 'Refrigerator', 'start': 8, 'end': 19}]]\n",
            "[['B-action', {'text': 'turn', 'start': 0, 'end': 3}], ['B-state', {'text': 'on', 'start': 5, 'end': 6}], ['B-device', {'text': 'Refrigerator', 'start': 8, 'end': 19}], ['B-room', {'text': 'kitchen', 'start': 28, 'end': 34}]]\n",
            "turn\tB-action\n",
            "on\tB-state\n",
            "Refrigerator\tB-device\n",
            "in\t0\n",
            "the\t\n",
            "kitchen\tB-room\n",
            ".\t0\n",
            "[['B-action', {'text': 'turn', 'start': 0, 'end': 3}]]\n",
            "[['B-action', {'text': 'turn', 'start': 0, 'end': 3}], ['B-state', {'text': 'on', 'start': 5, 'end': 6}]]\n",
            "[['B-action', {'text': 'turn', 'start': 0, 'end': 3}], ['B-state', {'text': 'on', 'start': 5, 'end': 6}], ['B-device', {'text': 'Refrigerator', 'start': 8, 'end': 19}]]\n",
            "[['B-action', {'text': 'turn', 'start': 0, 'end': 3}], ['B-state', {'text': 'on', 'start': 5, 'end': 6}], ['B-device', {'text': 'Refrigerator', 'start': 8, 'end': 19}], ['', {'text': 'the', 'start': 24, 'end': 26}]]\n",
            "[['B-action', {'text': 'turn', 'start': 0, 'end': 3}], ['B-state', {'text': 'on', 'start': 5, 'end': 6}], ['B-device', {'text': 'Refrigerator', 'start': 8, 'end': 19}], ['', {'text': 'the', 'start': 24, 'end': 26}], ['B-room', {'text': 'kitchen', 'start': 28, 'end': 34}]]\n",
            "turn\tB-action\n",
            "off\tB-state\n",
            "Fan\tB-device\n",
            "in\t0\n",
            "the\t0\n",
            "livingroom\tB-room\n",
            ".\t0\n",
            "[['B-action', {'text': 'turn', 'start': 0, 'end': 3}]]\n",
            "[['B-action', {'text': 'turn', 'start': 0, 'end': 3}], ['B-state', {'text': 'off', 'start': 5, 'end': 7}]]\n",
            "[['B-action', {'text': 'turn', 'start': 0, 'end': 3}], ['B-state', {'text': 'off', 'start': 5, 'end': 7}], ['B-device', {'text': 'Fan', 'start': 9, 'end': 11}]]\n",
            "[['B-action', {'text': 'turn', 'start': 0, 'end': 3}], ['B-state', {'text': 'off', 'start': 5, 'end': 7}], ['B-device', {'text': 'Fan', 'start': 9, 'end': 11}], ['B-room', {'text': 'livingroom', 'start': 20, 'end': 29}]]\n",
            "turn\tB-action\n",
            "on\tB-state\n",
            "Fan\tB-device\n",
            "in\t0\n",
            "the\t0\n",
            "bedroom\tB-room\n",
            ".\t0\n",
            "[['B-action', {'text': 'turn', 'start': 0, 'end': 3}]]\n",
            "[['B-action', {'text': 'turn', 'start': 0, 'end': 3}], ['B-state', {'text': 'on', 'start': 5, 'end': 6}]]\n",
            "[['B-action', {'text': 'turn', 'start': 0, 'end': 3}], ['B-state', {'text': 'on', 'start': 5, 'end': 6}], ['B-device', {'text': 'Fan', 'start': 8, 'end': 10}]]\n",
            "[['B-action', {'text': 'turn', 'start': 0, 'end': 3}], ['B-state', {'text': 'on', 'start': 5, 'end': 6}], ['B-device', {'text': 'Fan', 'start': 8, 'end': 10}], ['B-room', {'text': 'bedroom', 'start': 19, 'end': 25}]]\n",
            "turn\tB-action\n",
            "on\tB-state\n",
            "Grinder\tB-device\n",
            "in\t0\n",
            "the\t0\n",
            "kitchen\tB-room\n",
            "decrease\tB-action\n",
            "room temprature\tB-attribute\n",
            "it\t0\n",
            "feels\t0\n",
            "like\t0\n",
            "summer\t0\n",
            ".\t0\n",
            "[['B-action', {'text': 'turn', 'start': 0, 'end': 3}]]\n",
            "[['B-action', {'text': 'turn', 'start': 0, 'end': 3}], ['B-action', {'text': 'decrease', 'start': 31, 'end': 38}]]\n",
            "[['B-action', {'text': 'turn', 'start': 0, 'end': 3}], ['B-action', {'text': 'decrease', 'start': 31, 'end': 38}], ['B-state', {'text': 'on', 'start': 5, 'end': 6}]]\n",
            "[['B-action', {'text': 'turn', 'start': 0, 'end': 3}], ['B-action', {'text': 'decrease', 'start': 31, 'end': 38}], ['B-state', {'text': 'on', 'start': 5, 'end': 6}], ['B-device', {'text': 'Grinder', 'start': 8, 'end': 14}]]\n",
            "[['B-action', {'text': 'turn', 'start': 0, 'end': 3}], ['B-action', {'text': 'decrease', 'start': 31, 'end': 38}], ['B-state', {'text': 'on', 'start': 5, 'end': 6}], ['B-device', {'text': 'Grinder', 'start': 8, 'end': 14}], ['B-room', {'text': 'kitchen', 'start': 23, 'end': 29}]]\n",
            "[['B-action', {'text': 'turn', 'start': 0, 'end': 3}], ['B-action', {'text': 'decrease', 'start': 31, 'end': 38}], ['B-state', {'text': 'on', 'start': 5, 'end': 6}], ['B-device', {'text': 'Grinder', 'start': 8, 'end': 14}], ['B-room', {'text': 'kitchen', 'start': 23, 'end': 29}], ['B-attribute', {'text': 'room temprature', 'start': 40, 'end': 54}]]\n",
            "hey\t0\n",
            "can\t0\n",
            "you\t0\n",
            "start\tB-action\n",
            "the\t0\n",
            "televison\tB-device\n",
            ".\t0\n",
            "[['B-action', {'text': 'start', 'start': 12, 'end': 16}]]\n",
            "[['B-action', {'text': 'start', 'start': 12, 'end': 16}], ['B-device', {'text': 'televison', 'start': 22, 'end': 30}]]\n",
            "I\t0\n",
            "am\t0\n",
            "going\tB-action\n",
            "to\t0\n",
            "visit\tB-action\n",
            "Durgapur\tB-geo\n",
            "in\t0\n",
            "India\tB-geo\n",
            ".\t0\n",
            "[['B-action', {'text': 'going', 'start': 5, 'end': 9}]]\n",
            "[['B-action', {'text': 'going', 'start': 5, 'end': 9}], ['B-action', {'text': 'visit', 'start': 14, 'end': 18}]]\n",
            "[['B-action', {'text': 'going', 'start': 5, 'end': 9}], ['B-action', {'text': 'visit', 'start': 14, 'end': 18}], ['B-geo', {'text': 'Durgapur', 'start': 20, 'end': 27}]]\n",
            "[['B-action', {'text': 'going', 'start': 5, 'end': 9}], ['B-action', {'text': 'visit', 'start': 14, 'end': 18}], ['B-geo', {'text': 'Durgapur', 'start': 20, 'end': 27}], ['B-geo', {'text': 'India', 'start': 32, 'end': 36}]]\n",
            "reduce\tB-action\n",
            "the\t0\n",
            "noise\tB-attribute\n",
            "its\t0\n",
            "hurting\tB-action\n",
            "my\t0\n",
            "ears\t0\n",
            ".\t0\n",
            "[['B-action', {'text': 'reduce', 'start': 0, 'end': 5}]]\n",
            "[['B-action', {'text': 'reduce', 'start': 0, 'end': 5}], ['B-action', {'text': 'hurting', 'start': 21, 'end': 27}]]\n",
            "[['B-action', {'text': 'reduce', 'start': 0, 'end': 5}], ['B-action', {'text': 'hurting', 'start': 21, 'end': 27}], ['B-attribute', {'text': 'noise', 'start': 11, 'end': 15}]]\n",
            "heat\tB-action\n",
            "the\t0\n",
            "oven\tB-device\n",
            "to\t0\n",
            "20 degrees\tB-state\n",
            ".\t0\n",
            "[['B-action', {'text': 'heat', 'start': 0, 'end': 3}]]\n",
            "[['B-action', {'text': 'heat', 'start': 0, 'end': 3}], ['B-device', {'text': 'oven', 'start': 9, 'end': 12}]]\n",
            "[['B-action', {'text': 'heat', 'start': 0, 'end': 3}], ['B-device', {'text': 'oven', 'start': 9, 'end': 12}], ['B-state', {'text': '20 degrees', 'start': 17, 'end': 26}]]\n",
            "heat\tB-action\n",
            "the\t0\n",
            "food\tB-subject\n",
            "more\tB-state\n",
            ".\t\n"
          ],
          "name": "stdout"
        }
      ]
    },
    {
      "cell_type": "code",
      "metadata": {
        "id": "Qyh3ApcupF8d"
      },
      "source": [
        "import plac\n",
        "import logging\n",
        "import argparse\n",
        "import sys\n",
        "import os\n",
        "import json\n",
        "import pickle"
      ],
      "execution_count": 4,
      "outputs": []
    },
    {
      "cell_type": "code",
      "metadata": {
        "id": "_jwoUNBw21hH"
      },
      "source": [
        "# def json2spacy(input_file=None, output_file=None):\n",
        "#     try:\n",
        "#         training_data = []\n",
        "#         lines=[]\n",
        "#         with open(input_file, 'r') as f:\n",
        "#             lines = f.readlines()\n",
        "\n",
        "#         for line in lines:\n",
        "#             data = json.loads(line)\n",
        "#             text = data['content']\n",
        "#             entities = []\n",
        "#             for annotation in data['annotation']:\n",
        "#                 point = annotation['points'][0]\n",
        "#                 labels = annotation['label']\n",
        "#                 if not isinstance(labels, list):\n",
        "#                     labels = [labels]\n",
        "\n",
        "#                 for label in labels:\n",
        "#                     entities.append((point['start'], point['end'] + 1 ,label))\n",
        "\n",
        "\n",
        "#             training_data.append((text, {\"entities\" : entities}))\n",
        "\n",
        "#         print(training_data)\n",
        "\n",
        "#         with open(output_file, 'wb') as fp:\n",
        "#             pickle.dump(training_data, fp)\n",
        "\n",
        "#     except Exception as e:\n",
        "#         logging.exception(\"Unable to process \" + input_file + \"\\n\" + \"error = \" + str(e))\n",
        "#         return None\n",
        "import re\n",
        "\n",
        "\n",
        "def convert_dataturks_to_spacy(dataturks_JSON_FilePath):\n",
        "    try:\n",
        "        training_data = []\n",
        "        lines=[]\n",
        "        with open(dataturks_JSON_FilePath, 'r') as f:\n",
        "            lines = f.readlines()\n",
        "\n",
        "        for line in lines:\n",
        "            data = json.loads(line)\n",
        "            text = data['content']\n",
        "            entities = []\n",
        "            for annotation in data['annotation']:\n",
        "                #only a single point in text annotation.\n",
        "                point = annotation['points'][0]\n",
        "                labels = annotation['label']\n",
        "                # handle both list of labels or a single label.\n",
        "                if not isinstance(labels, list):\n",
        "                    labels = [labels]\n",
        "\n",
        "                for label in labels:\n",
        "                    #dataturks indices are both inclusive [start, end] but spacy is not [start, end)\n",
        "                    entities.append((point['start'], point['end'] + 1 ,label))\n",
        "\n",
        "\n",
        "            training_data.append((text, {\"entities\" : entities}))\n",
        "\n",
        "        return training_data\n",
        "    except Exception as e:\n",
        "        logging.exception(\"Unable to process \" + dataturks_JSON_FilePath + \"\\n\" + \"error = \" + str(e))\n",
        "        return None"
      ],
      "execution_count": 5,
      "outputs": []
    },
    {
      "cell_type": "code",
      "metadata": {
        "id": "2grL5K6_HuCL"
      },
      "source": [
        ""
      ],
      "execution_count": 9,
      "outputs": []
    },
    {
      "cell_type": "code",
      "metadata": {
        "id": "10rwjpHz-7TO",
        "colab": {
          "base_uri": "https://localhost:8080/"
        },
        "outputId": "065c37f4-3e75-420c-d66d-01f3e4bd0288"
      },
      "source": [
        "with open ('/content/gdrive/MyDrive/Samsung-Prism/spacy-data', 'rb') as fp:\n",
        "    TRAIN_DATA = pickle.load(fp)\n",
        "print (TRAIN_DATA)"
      ],
      "execution_count": 33,
      "outputs": [
        {
          "output_type": "stream",
          "text": [
            "[('turn on AC in the bedroom ', {'entities': [(0, 4, 'B-action'), (5, 7, 'B-state'), (8, 10, 'B-device'), (18, 25, 'B-room')]}), ('turn off UPS in the livingroom ', {'entities': [(0, 4, 'B-action'), (5, 8, 'B-state'), (9, 12, 'B-device'), (20, 30, 'B-room')]}), ('turn on Light in the storeroom ', {'entities': [(0, 4, 'B-action'), (5, 7, 'B-state'), (8, 13, 'B-device'), (21, 30, 'B-room')]}), ('turn on Fan in the bedroom ', {'entities': [(0, 4, 'B-action'), (5, 7, 'B-state'), (8, 11, 'B-device'), (19, 26, 'B-room')]}), ('turn off Refrigerator in the kitchen ', {'entities': [(0, 4, 'B-action'), (5, 8, 'B-state'), (9, 21, 'B-device'), (29, 36, 'B-room')]}), ('turn on Fan in the livingroom ', {'entities': [(0, 4, 'B-action'), (5, 7, 'B-state'), (8, 11, 'B-device'), (19, 29, 'B-room')]}), ('turn off Fan in the bedroom ', {'entities': [(0, 4, 'B-action'), (5, 8, 'B-state'), (9, 12, 'B-device'), (20, 27, 'B-room')]}), ('turn on Light in the kitchen ', {'entities': [(0, 4, 'B-action'), (5, 7, 'B-state'), (8, 13, 'B-device'), (21, 28, 'B-room')]}), ('turn off Speaker in the bedroom ', {'entities': [(0, 4, 'B-action'), (5, 8, 'B-state'), (9, 16, 'B-device'), (24, 31, 'B-room')]}), ('turn on Microwave in the kitchen ', {'entities': [(0, 4, 'B-action'), (5, 7, 'B-state'), (8, 17, 'B-device'), (25, 32, 'B-room')]}), ('turn on Computer in the studyroom ', {'entities': [(0, 4, 'B-action'), (5, 7, 'B-state'), (8, 16, 'B-device'), (24, 33, 'B-room')]}), ('turn on Nightlamp in the bedroom ', {'entities': [(0, 4, 'B-action'), (5, 7, 'B-state'), (8, 17, 'B-device'), (25, 32, 'B-room')]}), ('turn on Television in the livingroom ', {'entities': [(0, 4, 'B-action'), (5, 7, 'B-state'), (8, 18, 'B-device'), (26, 36, 'B-room')]}), ('turn off Television in the livingroom ', {'entities': [(0, 4, 'B-action'), (5, 8, 'B-state'), (9, 19, 'B-device'), (27, 37, 'B-room')]}), ('turn off Smartlight in the restroom ', {'entities': [(0, 4, 'B-action'), (5, 8, 'B-state'), (9, 19, 'B-device'), (27, 35, 'B-room')]}), ('turn on Lamp in the studyroom ', {'entities': [(0, 4, 'B-action'), (5, 7, 'B-state'), (8, 12, 'B-device'), (20, 29, 'B-room')]}), ('turn off Grinder in the kitchen ', {'entities': [(0, 4, 'B-action'), (5, 8, 'B-state'), (9, 16, 'B-device'), (24, 31, 'B-room')]}), ('turn on Mixer in the kitchen ', {'entities': [(0, 4, 'B-action'), (5, 7, 'B-state'), (8, 13, 'B-device'), (21, 28, 'B-room')]}), ('turn off AC in the livingroom ', {'entities': [(0, 4, 'B-action'), (5, 8, 'B-state'), (9, 11, 'B-device'), (19, 29, 'B-room')]}), ('turn on Juicer in the kitchen ', {'entities': [(0, 4, 'B-action'), (5, 7, 'B-state'), (8, 14, 'B-device'), (22, 29, 'B-room')]}), ('turn off Jiucer in the kitchen ', {'entities': [(0, 4, 'B-action'), (5, 8, 'B-state'), (9, 15, 'B-device'), (23, 30, 'B-room')]}), ('turn on Waterpurifier in the kitchen ', {'entities': [(0, 4, 'B-action'), (5, 7, 'B-state'), (8, 21, 'B-device'), (29, 36, 'B-room')]}), ('turn off AC in the bedroom ', {'entities': [(0, 4, 'B-action'), (5, 8, 'B-state'), (9, 11, 'B-device'), (19, 26, 'B-room')]}), ('turn on UPS in the livingroom ', {'entities': [(0, 4, 'B-action'), (5, 7, 'B-state'), (8, 11, 'B-device'), (19, 29, 'B-room')]}), ('turn off Fan in the bedroom ', {'entities': [(0, 4, 'B-action'), (5, 8, 'B-state'), (9, 12, 'B-device'), (20, 27, 'B-room')]}), ('turn on Refrigerator in the kitchen ', {'entities': [(0, 4, 'B-action'), (5, 7, 'B-state'), (8, 20, 'B-device'), (28, 35, 'B-room')]}), ('turn on Refrigerator in the kitchen ', {'entities': [(0, 4, 'B-action'), (5, 7, 'B-state'), (8, 20, 'B-device'), (24, 27, ''), (28, 35, 'B-room')]}), ('turn off Fan in the livingroom ', {'entities': [(0, 4, 'B-action'), (5, 8, 'B-state'), (9, 12, 'B-device'), (20, 30, 'B-room')]}), ('turn on Fan in the bedroom ', {'entities': [(0, 4, 'B-action'), (5, 7, 'B-state'), (8, 11, 'B-device'), (19, 26, 'B-room')]}), ('turn on Grinder in the kitchen decrease room temprature it feels like summer ', {'entities': [(0, 4, 'B-action'), (31, 39, 'B-action'), (5, 7, 'B-state'), (8, 15, 'B-device'), (23, 30, 'B-room'), (40, 55, 'B-attribute')]}), ('hey can you start the televison ', {'entities': [(12, 17, 'B-action'), (22, 31, 'B-device')]}), ('I am going to visit Durgapur in India ', {'entities': [(5, 10, 'B-action'), (14, 19, 'B-action'), (20, 28, 'B-geo'), (32, 37, 'B-geo')]}), ('reduce the noise its hurting my ears ', {'entities': [(0, 6, 'B-action'), (21, 28, 'B-action'), (11, 16, 'B-attribute')]}), ('heat the oven to 20 degrees ', {'entities': [(0, 4, 'B-action'), (9, 13, 'B-device'), (17, 27, 'B-state')]})]\n"
          ],
          "name": "stdout"
        }
      ]
    },
    {
      "cell_type": "code",
      "metadata": {
        "colab": {
          "base_uri": "https://localhost:8080/",
          "height": 538
        },
        "id": "KXwtcE3A8qqS",
        "outputId": "f50c80aa-3085-42ab-dd9a-2c92a68c23ea"
      },
      "source": [
        "def customNER(model=None, new_model_name='new_model', output_dir=None, n_iter=10):\n",
        "    if model is not None:\n",
        "        nlp = spacy.load(model)  # load existing spacy model\n",
        "        print(\"Loaded model '%s'\" % model)\n",
        "    else:\n",
        "        nlp = spacy.blank('en')  # create blank Language class\n",
        "        print(\"Created blank 'en' model\")\n",
        "    if 'ner' not in nlp.pipe_names:\n",
        "        ner = nlp.create_pipe('ner')\n",
        "        nlp.add_pipe(ner)\n",
        "    else:\n",
        "        ner = nlp.get_pipe('ner')\n",
        "\n",
        "    for i in LABEL:\n",
        "        ner.add_label(i)   # Add new entity labels to entity recognizer\n",
        "\n",
        "    if model is None:\n",
        "        optimizer = nlp.begin_training()\n",
        "    else:\n",
        "        optimizer = nlp.entity.create_optimizer()\n",
        "\n",
        "    # Get names of other pipes to disable them during training to train only NER\n",
        "    other_pipes = [pipe for pipe in nlp.pipe_names if pipe != 'ner']\n",
        "    with nlp.disable_pipes(*other_pipes):  # only train NER\n",
        "        for itn in range(n_iter):\n",
        "            random.shuffle(TRAIN_DATA)\n",
        "            losses = {}\n",
        "            batches = minibatch(TRAIN_DATA, size=compounding(4., 32., 1.001))\n",
        "            for batch in batches:\n",
        "                texts, annotations = zip(*batch)\n",
        "                nlp.update(texts, annotations, sgd=optimizer, drop=0.35,\n",
        "                           losses=losses)\n",
        "            print('Losses', losses) \n",
        "\n",
        "    if output_dir is not None:\n",
        "        output_dir = Path(output_dir)\n",
        "        if not output_dir.exists():\n",
        "            output_dir.mkdir()\n",
        "        nlp.meta['name'] = new_model_name  # rename model\n",
        "        nlp.to_disk(output_dir)\n",
        "        print(\"Saved model to\", output_dir)\n",
        "customNER(model=model, new_model_name=new_model,output_dir=output_dir,n_iter=10)"
      ],
      "execution_count": 11,
      "outputs": [
        {
          "output_type": "stream",
          "text": [
            "Created blank 'en' model\n"
          ],
          "name": "stdout"
        },
        {
          "output_type": "error",
          "ename": "ValueError",
          "evalue": "ignored",
          "traceback": [
            "\u001b[0;31m---------------------------------------------------------------------------\u001b[0m",
            "\u001b[0;31mValueError\u001b[0m                                Traceback (most recent call last)",
            "\u001b[0;32m<ipython-input-11-529d409fea12>\u001b[0m in \u001b[0;36m<module>\u001b[0;34m()\u001b[0m\n\u001b[1;32m     40\u001b[0m         \u001b[0mnlp\u001b[0m\u001b[0;34m.\u001b[0m\u001b[0mto_disk\u001b[0m\u001b[0;34m(\u001b[0m\u001b[0moutput_dir\u001b[0m\u001b[0;34m)\u001b[0m\u001b[0;34m\u001b[0m\u001b[0;34m\u001b[0m\u001b[0m\n\u001b[1;32m     41\u001b[0m         \u001b[0mprint\u001b[0m\u001b[0;34m(\u001b[0m\u001b[0;34m\"Saved model to\"\u001b[0m\u001b[0;34m,\u001b[0m \u001b[0moutput_dir\u001b[0m\u001b[0;34m)\u001b[0m\u001b[0;34m\u001b[0m\u001b[0;34m\u001b[0m\u001b[0m\n\u001b[0;32m---> 42\u001b[0;31m \u001b[0mcustomNER\u001b[0m\u001b[0;34m(\u001b[0m\u001b[0mmodel\u001b[0m\u001b[0;34m=\u001b[0m\u001b[0mmodel\u001b[0m\u001b[0;34m,\u001b[0m \u001b[0mnew_model_name\u001b[0m\u001b[0;34m=\u001b[0m\u001b[0mnew_model\u001b[0m\u001b[0;34m,\u001b[0m\u001b[0moutput_dir\u001b[0m\u001b[0;34m=\u001b[0m\u001b[0moutput_dir\u001b[0m\u001b[0;34m,\u001b[0m\u001b[0mn_iter\u001b[0m\u001b[0;34m=\u001b[0m\u001b[0;36m10\u001b[0m\u001b[0;34m)\u001b[0m\u001b[0;34m\u001b[0m\u001b[0;34m\u001b[0m\u001b[0m\n\u001b[0m",
            "\u001b[0;32m<ipython-input-11-529d409fea12>\u001b[0m in \u001b[0;36mcustomNER\u001b[0;34m(model, new_model_name, output_dir, n_iter)\u001b[0m\n\u001b[1;32m     30\u001b[0m                 \u001b[0mtexts\u001b[0m\u001b[0;34m,\u001b[0m \u001b[0mannotations\u001b[0m \u001b[0;34m=\u001b[0m \u001b[0mzip\u001b[0m\u001b[0;34m(\u001b[0m\u001b[0;34m*\u001b[0m\u001b[0mbatch\u001b[0m\u001b[0;34m)\u001b[0m\u001b[0;34m\u001b[0m\u001b[0;34m\u001b[0m\u001b[0m\n\u001b[1;32m     31\u001b[0m                 nlp.update(texts, annotations, sgd=optimizer, drop=0.35,\n\u001b[0;32m---> 32\u001b[0;31m                            losses=losses)\n\u001b[0m\u001b[1;32m     33\u001b[0m             \u001b[0mprint\u001b[0m\u001b[0;34m(\u001b[0m\u001b[0;34m'Losses'\u001b[0m\u001b[0;34m,\u001b[0m \u001b[0mlosses\u001b[0m\u001b[0;34m)\u001b[0m\u001b[0;34m\u001b[0m\u001b[0;34m\u001b[0m\u001b[0m\n\u001b[1;32m     34\u001b[0m \u001b[0;34m\u001b[0m\u001b[0m\n",
            "\u001b[0;32m/usr/local/lib/python3.7/dist-packages/spacy/language.py\u001b[0m in \u001b[0;36mupdate\u001b[0;34m(self, docs, golds, drop, sgd, losses, component_cfg)\u001b[0m\n\u001b[1;32m    517\u001b[0m             \u001b[0mkwargs\u001b[0m \u001b[0;34m=\u001b[0m \u001b[0mcomponent_cfg\u001b[0m\u001b[0;34m.\u001b[0m\u001b[0mget\u001b[0m\u001b[0;34m(\u001b[0m\u001b[0mname\u001b[0m\u001b[0;34m,\u001b[0m \u001b[0;34m{\u001b[0m\u001b[0;34m}\u001b[0m\u001b[0;34m)\u001b[0m\u001b[0;34m\u001b[0m\u001b[0;34m\u001b[0m\u001b[0m\n\u001b[1;32m    518\u001b[0m             \u001b[0mkwargs\u001b[0m\u001b[0;34m.\u001b[0m\u001b[0msetdefault\u001b[0m\u001b[0;34m(\u001b[0m\u001b[0;34m\"drop\"\u001b[0m\u001b[0;34m,\u001b[0m \u001b[0mdrop\u001b[0m\u001b[0;34m)\u001b[0m\u001b[0;34m\u001b[0m\u001b[0;34m\u001b[0m\u001b[0m\n\u001b[0;32m--> 519\u001b[0;31m             \u001b[0mproc\u001b[0m\u001b[0;34m.\u001b[0m\u001b[0mupdate\u001b[0m\u001b[0;34m(\u001b[0m\u001b[0mdocs\u001b[0m\u001b[0;34m,\u001b[0m \u001b[0mgolds\u001b[0m\u001b[0;34m,\u001b[0m \u001b[0msgd\u001b[0m\u001b[0;34m=\u001b[0m\u001b[0mget_grads\u001b[0m\u001b[0;34m,\u001b[0m \u001b[0mlosses\u001b[0m\u001b[0;34m=\u001b[0m\u001b[0mlosses\u001b[0m\u001b[0;34m,\u001b[0m \u001b[0;34m**\u001b[0m\u001b[0mkwargs\u001b[0m\u001b[0;34m)\u001b[0m\u001b[0;34m\u001b[0m\u001b[0;34m\u001b[0m\u001b[0m\n\u001b[0m\u001b[1;32m    520\u001b[0m             \u001b[0;32mfor\u001b[0m \u001b[0mkey\u001b[0m\u001b[0;34m,\u001b[0m \u001b[0;34m(\u001b[0m\u001b[0mW\u001b[0m\u001b[0;34m,\u001b[0m \u001b[0mdW\u001b[0m\u001b[0;34m)\u001b[0m \u001b[0;32min\u001b[0m \u001b[0mgrads\u001b[0m\u001b[0;34m.\u001b[0m\u001b[0mitems\u001b[0m\u001b[0;34m(\u001b[0m\u001b[0;34m)\u001b[0m\u001b[0;34m:\u001b[0m\u001b[0;34m\u001b[0m\u001b[0;34m\u001b[0m\u001b[0m\n\u001b[1;32m    521\u001b[0m                 \u001b[0msgd\u001b[0m\u001b[0;34m(\u001b[0m\u001b[0mW\u001b[0m\u001b[0;34m,\u001b[0m \u001b[0mdW\u001b[0m\u001b[0;34m,\u001b[0m \u001b[0mkey\u001b[0m\u001b[0;34m=\u001b[0m\u001b[0mkey\u001b[0m\u001b[0;34m)\u001b[0m\u001b[0;34m\u001b[0m\u001b[0;34m\u001b[0m\u001b[0m\n",
            "\u001b[0;32mnn_parser.pyx\u001b[0m in \u001b[0;36mspacy.syntax.nn_parser.Parser.update\u001b[0;34m()\u001b[0m\n",
            "\u001b[0;32mnn_parser.pyx\u001b[0m in \u001b[0;36mspacy.syntax.nn_parser.Parser._init_gold_batch\u001b[0;34m()\u001b[0m\n",
            "\u001b[0;32mtransition_system.pyx\u001b[0m in \u001b[0;36mspacy.syntax.transition_system.TransitionSystem.get_oracle_sequence\u001b[0;34m()\u001b[0m\n",
            "\u001b[0;32mtransition_system.pyx\u001b[0m in \u001b[0;36mspacy.syntax.transition_system.TransitionSystem.set_costs\u001b[0;34m()\u001b[0m\n",
            "\u001b[0;31mValueError\u001b[0m: [E024] Could not find an optimal move to supervise the parser. Usually, this means that the model can't be updated in a way that's valid and satisfies the correct annotations specified in the GoldParse. For example, are all labels added to the model? If you're training a named entity recognizer, also make sure that none of your annotated entity spans have leading or trailing whitespace or punctuation. You can also use the experimental `debug-data` command to validate your JSON-formatted training data. For details, run:\npython -m spacy debug-data --help"
          ]
        }
      ]
    },
    {
      "cell_type": "code",
      "metadata": {
        "colab": {
          "base_uri": "https://localhost:8080/"
        },
        "id": "d103xXMH_-oy",
        "outputId": "d0a5808a-8df9-4256-d3ec-2aa7597e8624"
      },
      "source": [
        "!python -m spacy debug-data train_path /content/gdrive/MyDrive/Samsung-Prism/ner_dataset.json"
      ],
      "execution_count": 13,
      "outputs": [
        {
          "output_type": "stream",
          "text": [
            "usage: spacy debug-data [-h] [-tm None] [-b None] [-p tagger,parser,ner] [-IW]\n",
            "                        [-V] [-NF]\n",
            "                        lang train_path dev_path\n",
            "spacy debug-data: error: the following arguments are required: dev_path\n"
          ],
          "name": "stdout"
        }
      ]
    },
    {
      "cell_type": "code",
      "metadata": {
        "id": "5TPtlUdF-o1i",
        "colab": {
          "base_uri": "https://localhost:8080/"
        },
        "outputId": "5d993345-34ae-42c2-f3ec-c3aeba77c438"
      },
      "source": [
        "# Test the trained model\n",
        "test_text = 'switch on the fan in diningroom'\n",
        "doc = nlp(test_text)\n",
        "print(\"Entities in '%s'\" % test_text)\n",
        "for ent in doc.ents:\n",
        "    print(ent.label_, ent.text)"
      ],
      "execution_count": 58,
      "outputs": [
        {
          "output_type": "stream",
          "text": [
            "Entities in 'switch on the fan in diningroom'\n",
            "B-action switch\n",
            "B-state on\n",
            "B-device fan\n",
            "B-room diningroom\n"
          ],
          "name": "stdout"
        }
      ]
    },
    {
      "cell_type": "code",
      "metadata": {
        "id": "RElzXllP2OOD"
      },
      "source": [
        "from __future__ import unicode_literals, print_function\n",
        "import plac\n",
        "import random\n",
        "from pathlib import Path\n",
        "import spacy\n",
        "from tqdm import tqdm"
      ],
      "execution_count": 14,
      "outputs": []
    },
    {
      "cell_type": "code",
      "metadata": {
        "id": "K7FhFQg_2TX2"
      },
      "source": [
        "TRAIN_DATA=[('turn on AC in the bedroom ', {'entities': [(0, 4, 'B-action'), (5, 7, 'B-state'), (8, 10, 'B-device'), (18, 25, 'B-room')]}), ('turn off UPS in the livingroom ', {'entities': [(0, 4, 'B-action'), (5, 8, 'B-state'), (9, 12, 'B-device'), (20, 30, 'B-room')]}), ('turn on Light in the storeroom ', {'entities': [(0, 4, 'B-action'), (5, 7, 'B-state'), (8, 13, 'B-device'), (21, 30, 'B-room')]}), ('turn on Fan in the bedroom ', {'entities': [(0, 4, 'B-action'), (5, 7, 'B-state'), (8, 11, 'B-device'), (19, 26, 'B-room')]}), ('turn off Refrigerator in the kitchen ', {'entities': [(0, 4, 'B-action'), (5, 8, 'B-state'), (9, 21, 'B-device'), (29, 36, 'B-room')]}), ('turn on Fan in the livingroom ', {'entities': [(0, 4, 'B-action'), (5, 7, 'B-state'), (8, 11, 'B-device'), (19, 29, 'B-room')]}), ('turn off Fan in the bedroom ', {'entities': [(0, 4, 'B-action'), (5, 8, 'B-state'), (9, 12, 'B-device'), (20, 27, 'B-room')]}), ('turn on Light in the kitchen ', {'entities': [(0, 4, 'B-action'), (5, 7, 'B-state'), (8, 13, 'B-device'), (21, 28, 'B-room')]}), ('turn off Speaker in the bedroom ', {'entities': [(0, 4, 'B-action'), (5, 8, 'B-state'), (9, 16, 'B-device'), (24, 31, 'B-room')]}), ('turn on Microwave in the kitchen ', {'entities': [(0, 4, 'B-action'), (5, 7, 'B-state'), (8, 17, 'B-device'), (25, 32, 'B-room')]}), ('turn on Computer in the studyroom ', {'entities': [(0, 4, 'B-action'), (5, 7, 'B-state'), (8, 16, 'B-device'), (24, 33, 'B-room')]}), ('turn on Nightlamp in the bedroom ', {'entities': [(0, 4, 'B-action'), (5, 7, 'B-state'), (8, 17, 'B-device'), (25, 32, 'B-room')]}), ('turn on Television in the livingroom ', {'entities': [(0, 4, 'B-action'), (5, 7, 'B-state'), (8, 18, 'B-device'), (26, 36, 'B-room')]}), ('switch off the TV in guestroom', {'entities': [(0, 6, 'B-action'), (7, 10, 'B-state'), (15, 17, 'B-device'), (21, 30, 'B-room')]}), ('turn on Refrigerator in the kitchen ', {'entities': [(0, 4, 'B-action'), (5, 7, 'B-state'), (8, 20, 'B-device'), (28, 35, 'B-room')]}), ('turn off Fan in the livingroom ', {'entities': [(0, 4, 'B-action'), (5, 8, 'B-state'), (9, 12, 'B-device'), (20, 30, 'B-room')]}), ('turn on Fan in the bedroom ', {'entities': [(0, 4, 'B-action'), (5, 7, 'B-state'), (8, 11, 'B-device'), (19, 26, 'B-room')]}), ('turn on Grinder in the kitchen decrease room temprature it feels like summer ', {'entities': [(0, 4, 'B-action'), (31, 39, 'B-action'), (5, 7, 'B-state'), (8, 15, 'B-device'), (23, 30, 'B-room'), (40, 55, 'B-attribute')]}), ('hey can you start the televison ', {'entities': [(12, 17, 'B-action'), (22, 31, 'B-device')]}), ('I am going to visit Durgapur in India ', {'entities': [(5, 10, 'B-action'), (14, 19, 'B-action'), (20, 28, 'B-geo'), (32, 37, 'B-geo')]}), ('reduce the noise its hurting my ears ', {'entities': [(0, 6, 'B-action'), (21, 28, 'B-action'), (11, 16, 'B-attribute')]}), ('heat the oven to 20 degrees ', {'entities': [(0, 4, 'B-action'), (9, 13, 'B-device'), (17, 27, 'B-state')]})]"
      ],
      "execution_count": 45,
      "outputs": []
    },
    {
      "cell_type": "code",
      "metadata": {
        "id": "DnLZv8Lv3f3u"
      },
      "source": [
        "model = None\n",
        "output_dir=Path(\"/content/gdrive/MyDrive/Samsung-Prism/\")\n",
        "n_iter=30"
      ],
      "execution_count": 47,
      "outputs": []
    },
    {
      "cell_type": "code",
      "metadata": {
        "colab": {
          "base_uri": "https://localhost:8080/"
        },
        "id": "cxfz5U7N3h3b",
        "outputId": "77d3c5f7-3dd2-4fc4-d1eb-fa1fc31e49fb"
      },
      "source": [
        "#load the model\n",
        "\n",
        "if model is not None:\n",
        "    nlp = spacy.load(model)  \n",
        "    print(\"Loaded model '%s'\" % model)\n",
        "else:\n",
        "    nlp = spacy.blank('en')  \n",
        "    print(\"Created blank 'en' model\")\n",
        "\n",
        "#set up the pipeline\n",
        "\n",
        "if 'ner' not in nlp.pipe_names:\n",
        "    ner = nlp.create_pipe('ner')\n",
        "    nlp.add_pipe(ner, last=True)\n",
        "else:\n",
        "    ner = nlp.get_pipe('ner')"
      ],
      "execution_count": 48,
      "outputs": [
        {
          "output_type": "stream",
          "text": [
            "Created blank 'en' model\n"
          ],
          "name": "stdout"
        }
      ]
    },
    {
      "cell_type": "code",
      "metadata": {
        "colab": {
          "base_uri": "https://localhost:8080/"
        },
        "id": "KcYcKluV3mwE",
        "outputId": "a9795000-c127-42ea-8768-bb6d04fe4974"
      },
      "source": [
        "for _, annotations in newdata:\n",
        "    for ent in annotations.get('entities'):\n",
        "        ner.add_label(ent[2])\n",
        "loss_log=[]\n",
        "other_pipes = [pipe for pipe in nlp.pipe_names if pipe != 'ner']\n",
        "with nlp.disable_pipes(*other_pipes):  # only train NER\n",
        "    optimizer = nlp.begin_training()\n",
        "    for itn in range(n_iter):\n",
        "        random.shuffle(newdata)\n",
        "        losses = {}\n",
        "        for text, annotations in tqdm(newdata):\n",
        "            nlp.update(\n",
        "                [text],  \n",
        "                [annotations],  \n",
        "                drop=0.5,  \n",
        "                sgd=optimizer,\n",
        "                losses=losses)\n",
        "        loss_log.append(losses['ner'])\n",
        "        print(losses)"
      ],
      "execution_count": 52,
      "outputs": [
        {
          "output_type": "stream",
          "text": [
            "100%|██████████| 22/22 [00:00<00:00, 33.93it/s]\n",
            " 18%|█▊        | 4/22 [00:00<00:00, 33.19it/s]"
          ],
          "name": "stderr"
        },
        {
          "output_type": "stream",
          "text": [
            "{'ner': 118.47571277618408}\n"
          ],
          "name": "stdout"
        },
        {
          "output_type": "stream",
          "text": [
            "100%|██████████| 22/22 [00:00<00:00, 33.71it/s]\n",
            " 18%|█▊        | 4/22 [00:00<00:00, 34.77it/s]"
          ],
          "name": "stderr"
        },
        {
          "output_type": "stream",
          "text": [
            "{'ner': 98.61552137881517}\n"
          ],
          "name": "stdout"
        },
        {
          "output_type": "stream",
          "text": [
            "100%|██████████| 22/22 [00:00<00:00, 33.52it/s]\n",
            " 18%|█▊        | 4/22 [00:00<00:00, 35.65it/s]"
          ],
          "name": "stderr"
        },
        {
          "output_type": "stream",
          "text": [
            "{'ner': 59.79117344709812}\n"
          ],
          "name": "stdout"
        },
        {
          "output_type": "stream",
          "text": [
            "100%|██████████| 22/22 [00:00<00:00, 33.71it/s]\n",
            " 18%|█▊        | 4/22 [00:00<00:00, 35.12it/s]"
          ],
          "name": "stderr"
        },
        {
          "output_type": "stream",
          "text": [
            "{'ner': 31.25438546812264}\n"
          ],
          "name": "stdout"
        },
        {
          "output_type": "stream",
          "text": [
            "100%|██████████| 22/22 [00:00<00:00, 34.09it/s]\n",
            " 18%|█▊        | 4/22 [00:00<00:00, 34.39it/s]"
          ],
          "name": "stderr"
        },
        {
          "output_type": "stream",
          "text": [
            "{'ner': 25.533101667669083}\n"
          ],
          "name": "stdout"
        },
        {
          "output_type": "stream",
          "text": [
            "100%|██████████| 22/22 [00:00<00:00, 33.72it/s]\n",
            " 18%|█▊        | 4/22 [00:00<00:00, 35.30it/s]"
          ],
          "name": "stderr"
        },
        {
          "output_type": "stream",
          "text": [
            "{'ner': 25.389256302048405}\n"
          ],
          "name": "stdout"
        },
        {
          "output_type": "stream",
          "text": [
            "100%|██████████| 22/22 [00:00<00:00, 33.23it/s]\n",
            " 18%|█▊        | 4/22 [00:00<00:00, 34.16it/s]"
          ],
          "name": "stderr"
        },
        {
          "output_type": "stream",
          "text": [
            "{'ner': 21.40328110460555}\n"
          ],
          "name": "stdout"
        },
        {
          "output_type": "stream",
          "text": [
            "100%|██████████| 22/22 [00:00<00:00, 33.95it/s]\n",
            " 18%|█▊        | 4/22 [00:00<00:00, 35.39it/s]"
          ],
          "name": "stderr"
        },
        {
          "output_type": "stream",
          "text": [
            "{'ner': 16.966067170318592}\n"
          ],
          "name": "stdout"
        },
        {
          "output_type": "stream",
          "text": [
            "100%|██████████| 22/22 [00:00<00:00, 33.52it/s]\n",
            " 18%|█▊        | 4/22 [00:00<00:00, 35.70it/s]"
          ],
          "name": "stderr"
        },
        {
          "output_type": "stream",
          "text": [
            "{'ner': 13.148183746850183}\n"
          ],
          "name": "stdout"
        },
        {
          "output_type": "stream",
          "text": [
            "100%|██████████| 22/22 [00:00<00:00, 33.25it/s]\n",
            " 18%|█▊        | 4/22 [00:00<00:00, 36.04it/s]"
          ],
          "name": "stderr"
        },
        {
          "output_type": "stream",
          "text": [
            "{'ner': 13.434385842384703}\n"
          ],
          "name": "stdout"
        },
        {
          "output_type": "stream",
          "text": [
            "100%|██████████| 22/22 [00:00<00:00, 34.18it/s]\n",
            " 18%|█▊        | 4/22 [00:00<00:00, 32.20it/s]"
          ],
          "name": "stderr"
        },
        {
          "output_type": "stream",
          "text": [
            "{'ner': 15.401829632952467}\n"
          ],
          "name": "stdout"
        },
        {
          "output_type": "stream",
          "text": [
            "100%|██████████| 22/22 [00:00<00:00, 33.33it/s]\n",
            " 18%|█▊        | 4/22 [00:00<00:00, 35.59it/s]"
          ],
          "name": "stderr"
        },
        {
          "output_type": "stream",
          "text": [
            "{'ner': 12.684005520255221}\n"
          ],
          "name": "stdout"
        },
        {
          "output_type": "stream",
          "text": [
            "100%|██████████| 22/22 [00:00<00:00, 33.41it/s]\n",
            " 18%|█▊        | 4/22 [00:00<00:00, 32.82it/s]"
          ],
          "name": "stderr"
        },
        {
          "output_type": "stream",
          "text": [
            "{'ner': 18.849032943297882}\n"
          ],
          "name": "stdout"
        },
        {
          "output_type": "stream",
          "text": [
            "100%|██████████| 22/22 [00:00<00:00, 33.56it/s]\n",
            " 18%|█▊        | 4/22 [00:00<00:00, 34.40it/s]"
          ],
          "name": "stderr"
        },
        {
          "output_type": "stream",
          "text": [
            "{'ner': 13.440057719914572}\n"
          ],
          "name": "stdout"
        },
        {
          "output_type": "stream",
          "text": [
            "100%|██████████| 22/22 [00:00<00:00, 33.66it/s]\n",
            " 18%|█▊        | 4/22 [00:00<00:00, 33.42it/s]"
          ],
          "name": "stderr"
        },
        {
          "output_type": "stream",
          "text": [
            "{'ner': 14.426969609826543}\n"
          ],
          "name": "stdout"
        },
        {
          "output_type": "stream",
          "text": [
            "100%|██████████| 22/22 [00:00<00:00, 32.55it/s]\n",
            " 18%|█▊        | 4/22 [00:00<00:00, 33.65it/s]"
          ],
          "name": "stderr"
        },
        {
          "output_type": "stream",
          "text": [
            "{'ner': 9.765218176242431}\n"
          ],
          "name": "stdout"
        },
        {
          "output_type": "stream",
          "text": [
            "100%|██████████| 22/22 [00:00<00:00, 33.62it/s]\n",
            " 18%|█▊        | 4/22 [00:00<00:00, 34.65it/s]"
          ],
          "name": "stderr"
        },
        {
          "output_type": "stream",
          "text": [
            "{'ner': 11.823531678022203}\n"
          ],
          "name": "stdout"
        },
        {
          "output_type": "stream",
          "text": [
            "100%|██████████| 22/22 [00:00<00:00, 34.02it/s]\n",
            " 18%|█▊        | 4/22 [00:00<00:00, 34.83it/s]"
          ],
          "name": "stderr"
        },
        {
          "output_type": "stream",
          "text": [
            "{'ner': 10.055285386192155}\n"
          ],
          "name": "stdout"
        },
        {
          "output_type": "stream",
          "text": [
            "100%|██████████| 22/22 [00:00<00:00, 33.91it/s]\n",
            " 18%|█▊        | 4/22 [00:00<00:00, 34.91it/s]"
          ],
          "name": "stderr"
        },
        {
          "output_type": "stream",
          "text": [
            "{'ner': 8.461815622529569}\n"
          ],
          "name": "stdout"
        },
        {
          "output_type": "stream",
          "text": [
            "100%|██████████| 22/22 [00:00<00:00, 33.22it/s]\n",
            " 18%|█▊        | 4/22 [00:00<00:00, 35.22it/s]"
          ],
          "name": "stderr"
        },
        {
          "output_type": "stream",
          "text": [
            "{'ner': 8.639660078202107}\n"
          ],
          "name": "stdout"
        },
        {
          "output_type": "stream",
          "text": [
            "100%|██████████| 22/22 [00:00<00:00, 33.53it/s]\n",
            " 18%|█▊        | 4/22 [00:00<00:00, 33.93it/s]"
          ],
          "name": "stderr"
        },
        {
          "output_type": "stream",
          "text": [
            "{'ner': 4.357842145818949}\n"
          ],
          "name": "stdout"
        },
        {
          "output_type": "stream",
          "text": [
            "100%|██████████| 22/22 [00:00<00:00, 33.41it/s]\n",
            " 18%|█▊        | 4/22 [00:00<00:00, 36.12it/s]"
          ],
          "name": "stderr"
        },
        {
          "output_type": "stream",
          "text": [
            "{'ner': 9.608502952825352}\n"
          ],
          "name": "stdout"
        },
        {
          "output_type": "stream",
          "text": [
            "100%|██████████| 22/22 [00:00<00:00, 33.76it/s]\n",
            " 18%|█▊        | 4/22 [00:00<00:00, 34.23it/s]"
          ],
          "name": "stderr"
        },
        {
          "output_type": "stream",
          "text": [
            "{'ner': 2.8345851064725305}\n"
          ],
          "name": "stdout"
        },
        {
          "output_type": "stream",
          "text": [
            "100%|██████████| 22/22 [00:00<00:00, 33.13it/s]\n",
            " 18%|█▊        | 4/22 [00:00<00:00, 35.77it/s]"
          ],
          "name": "stderr"
        },
        {
          "output_type": "stream",
          "text": [
            "{'ner': 5.149971944408563}\n"
          ],
          "name": "stdout"
        },
        {
          "output_type": "stream",
          "text": [
            "100%|██████████| 22/22 [00:00<00:00, 33.51it/s]\n",
            " 18%|█▊        | 4/22 [00:00<00:00, 34.49it/s]"
          ],
          "name": "stderr"
        },
        {
          "output_type": "stream",
          "text": [
            "{'ner': 7.892801689509535}\n"
          ],
          "name": "stdout"
        },
        {
          "output_type": "stream",
          "text": [
            "100%|██████████| 22/22 [00:00<00:00, 33.52it/s]\n",
            " 18%|█▊        | 4/22 [00:00<00:00, 34.45it/s]"
          ],
          "name": "stderr"
        },
        {
          "output_type": "stream",
          "text": [
            "{'ner': 6.232073185708139}\n"
          ],
          "name": "stdout"
        },
        {
          "output_type": "stream",
          "text": [
            "100%|██████████| 22/22 [00:00<00:00, 33.15it/s]\n",
            " 18%|█▊        | 4/22 [00:00<00:00, 33.51it/s]"
          ],
          "name": "stderr"
        },
        {
          "output_type": "stream",
          "text": [
            "{'ner': 6.829478972802346}\n"
          ],
          "name": "stdout"
        },
        {
          "output_type": "stream",
          "text": [
            "100%|██████████| 22/22 [00:00<00:00, 33.10it/s]\n",
            " 18%|█▊        | 4/22 [00:00<00:00, 35.09it/s]"
          ],
          "name": "stderr"
        },
        {
          "output_type": "stream",
          "text": [
            "{'ner': 4.04791284532738}\n"
          ],
          "name": "stdout"
        },
        {
          "output_type": "stream",
          "text": [
            "100%|██████████| 22/22 [00:00<00:00, 32.47it/s]\n",
            " 18%|█▊        | 4/22 [00:00<00:00, 32.77it/s]"
          ],
          "name": "stderr"
        },
        {
          "output_type": "stream",
          "text": [
            "{'ner': 4.273257681799464}\n"
          ],
          "name": "stdout"
        },
        {
          "output_type": "stream",
          "text": [
            "100%|██████████| 22/22 [00:00<00:00, 32.98it/s]"
          ],
          "name": "stderr"
        },
        {
          "output_type": "stream",
          "text": [
            "{'ner': 0.7761044812656248}\n"
          ],
          "name": "stdout"
        },
        {
          "output_type": "stream",
          "text": [
            "\n"
          ],
          "name": "stderr"
        }
      ]
    },
    {
      "cell_type": "code",
      "metadata": {
        "colab": {
          "base_uri": "https://localhost:8080/",
          "height": 178
        },
        "id": "kVD5SSrr7jUu",
        "outputId": "2208442a-bdda-495c-bbbb-faa9db773f52"
      },
      "source": [
        ""
      ],
      "execution_count": 32,
      "outputs": [
        {
          "output_type": "error",
          "ename": "AttributeError",
          "evalue": "ignored",
          "traceback": [
            "\u001b[0;31m---------------------------------------------------------------------------\u001b[0m",
            "\u001b[0;31mAttributeError\u001b[0m                            Traceback (most recent call last)",
            "\u001b[0;32m<ipython-input-32-36c3af796aa0>\u001b[0m in \u001b[0;36m<module>\u001b[0;34m()\u001b[0m\n\u001b[0;32m----> 1\u001b[0;31m \u001b[0mloss_values\u001b[0m \u001b[0;34m=\u001b[0m \u001b[0mnlp\u001b[0m\u001b[0;34m.\u001b[0m\u001b[0mestimator\u001b[0m\u001b[0;34m.\u001b[0m\u001b[0mloss_curve_\u001b[0m\u001b[0;34m\u001b[0m\u001b[0;34m\u001b[0m\u001b[0m\n\u001b[0m\u001b[1;32m      2\u001b[0m \u001b[0mprint\u001b[0m \u001b[0;34m(\u001b[0m\u001b[0mloss_values\u001b[0m\u001b[0;34m)\u001b[0m\u001b[0;34m\u001b[0m\u001b[0;34m\u001b[0m\u001b[0m\n",
            "\u001b[0;31mAttributeError\u001b[0m: 'English' object has no attribute 'estimator'"
          ]
        }
      ]
    },
    {
      "cell_type": "code",
      "metadata": {
        "id": "d31Xr87J3z6V"
      },
      "source": [
        "def trim_entity_spans(data: list) -> list:\n",
        "    \"\"\"Removes leading and trailing white spaces from entity spans.\n",
        "\n",
        "    Args:\n",
        "        data (list): The data to be cleaned in spaCy JSON format.\n",
        "\n",
        "    Returns:\n",
        "        list: The cleaned data.\n",
        "    \"\"\"\n",
        "    invalid_span_tokens = re.compile(r'\\s')\n",
        "\n",
        "    cleaned_data = []\n",
        "    for text, annotations in data:\n",
        "        entities = annotations['entities']\n",
        "        valid_entities = []\n",
        "        for start, end, label in entities:\n",
        "            valid_start = start\n",
        "            valid_end = end\n",
        "            while valid_start < len(text) and invalid_span_tokens.match(\n",
        "                    text[valid_start]):\n",
        "                valid_start += 1\n",
        "            while valid_end > 1 and invalid_span_tokens.match(\n",
        "                    text[valid_end - 1]):\n",
        "                valid_end -= 1\n",
        "            valid_entities.append([valid_start, valid_end, label])\n",
        "        cleaned_data.append([text, {'entities': valid_entities}])\n",
        "\n",
        "    return cleaned_data\n",
        "\n",
        "newdata=trim_entity_spans(TRAIN_DATA)"
      ],
      "execution_count": 46,
      "outputs": []
    },
    {
      "cell_type": "code",
      "metadata": {
        "id": "Zlg7QyDN4ai_"
      },
      "source": [
        "import matplotlib.pyplot as plt"
      ],
      "execution_count": 53,
      "outputs": []
    },
    {
      "cell_type": "code",
      "metadata": {
        "colab": {
          "base_uri": "https://localhost:8080/",
          "height": 295
        },
        "id": "riPWV6fKCcZX",
        "outputId": "f78b09d1-1f4c-4d68-a65f-9e48dfc6bd21"
      },
      "source": [
        "loss_train = loss_log\n",
        "epochs=range(1,31)\n",
        "plt.plot(epochs, loss_train, 'g', label='Training loss')\n",
        "plt.title('Training loss')\n",
        "plt.xlabel('Epochs')\n",
        "plt.ylabel('Loss')\n",
        "plt.legend()\n",
        "plt.show()"
      ],
      "execution_count": 57,
      "outputs": [
        {
          "output_type": "display_data",
          "data": {
            "image/png": "[encoded data removed]",
            "text/plain": [
              "<Figure size 432x288 with 1 Axes>"
            ]
          },
          "metadata": {
            "tags": [],
            "needs_background": "light"
          }
        }
      ]
    },
    {
      "cell_type": "code",
      "metadata": {
        "colab": {
          "base_uri": "https://localhost:8080/"
        },
        "id": "jwIM3gwtCyTL",
        "outputId": "58c06191-6363-416d-cb7b-33629a5e0894"
      },
      "source": [
        "if output_dir is not None:\n",
        "    output_dir = Path(output_dir)\n",
        "    if not output_dir.exists():\n",
        "        output_dir.mkdir()\n",
        "    nlp.to_disk(output_dir)\n",
        "    print(\"Saved model to\", output_dir)"
      ],
      "execution_count": 59,
      "outputs": [
        {
          "output_type": "stream",
          "text": [
            "Saved model to /content/gdrive/MyDrive/Samsung-Prism\n"
          ],
          "name": "stdout"
        }
      ]
    },
    {
      "cell_type": "code",
      "metadata": {
        "id": "xz6luwxAEzNO"
      },
      "source": [
        ""
      ],
      "execution_count": null,
      "outputs": []
    }
  ]
}